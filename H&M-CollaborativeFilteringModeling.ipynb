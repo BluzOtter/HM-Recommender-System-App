{
 "cells": [
  {
   "cell_type": "markdown",
   "metadata": {},
   "source": [
    "# Data Preparation"
   ]
  },
  {
   "cell_type": "code",
   "execution_count": 6,
   "metadata": {
    "ExecuteTime": {
     "end_time": "2022-06-01T05:46:45.683238Z",
     "start_time": "2022-06-01T05:46:45.677499Z"
    }
   },
   "outputs": [],
   "source": [
    "import pandas as pd\n",
    "import pickle\n",
    "import matplotlib.pyplot as plt\n",
    "\n",
    "from surprise import Dataset, Reader, accuracy\n",
    "from surprise.model_selection import cross_validate, GridSearchCV, train_test_split\n",
    "from surprise.prediction_algorithms import SVD, SVDpp, NMF, BaselineOnly, NormalPredictor, KNNBasic\n",
    "\n",
    "# from sklearn.model_selection import train_test_split\n",
    "\n",
    "plt.style.use('fast')\n",
    "%matplotlib inline"
   ]
  },
  {
   "cell_type": "code",
   "execution_count": 7,
   "metadata": {
    "ExecuteTime": {
     "end_time": "2022-06-01T05:46:46.171652Z",
     "start_time": "2022-06-01T05:46:46.168751Z"
    }
   },
   "outputs": [],
   "source": [
    "pd.set_option('display.max_columns', 50)"
   ]
  },
  {
   "cell_type": "markdown",
   "metadata": {},
   "source": [
    "Read in the `out` file which is the data prepared for the collaborative modeling in the `FinalDataPreparation` notebook."
   ]
  },
  {
   "cell_type": "code",
   "execution_count": 8,
   "metadata": {
    "ExecuteTime": {
     "end_time": "2022-06-01T05:46:49.042235Z",
     "start_time": "2022-06-01T05:46:47.632375Z"
    }
   },
   "outputs": [
    {
     "data": {
      "text/html": [
       "<div>\n",
       "<style scoped>\n",
       "    .dataframe tbody tr th:only-of-type {\n",
       "        vertical-align: middle;\n",
       "    }\n",
       "\n",
       "    .dataframe tbody tr th {\n",
       "        vertical-align: top;\n",
       "    }\n",
       "\n",
       "    .dataframe thead th {\n",
       "        text-align: right;\n",
       "    }\n",
       "</style>\n",
       "<table border=\"1\" class=\"dataframe\">\n",
       "  <thead>\n",
       "    <tr style=\"text-align: right;\">\n",
       "      <th></th>\n",
       "      <th>InvoiceDate</th>\n",
       "      <th>customer_id</th>\n",
       "      <th>article_id</th>\n",
       "      <th>price</th>\n",
       "      <th>sales_channel_id</th>\n",
       "      <th>t_dat</th>\n",
       "      <th>date</th>\n",
       "      <th>bought</th>\n",
       "    </tr>\n",
       "  </thead>\n",
       "  <tbody>\n",
       "    <tr>\n",
       "      <th>0</th>\n",
       "      <td>2020-09-14</td>\n",
       "      <td>0008968c0d451dbc5a9968da03196fe20051965edde741...</td>\n",
       "      <td>893059004</td>\n",
       "      <td>0.035576</td>\n",
       "      <td>2</td>\n",
       "      <td>2020-09-14</td>\n",
       "      <td>2020-09-14</td>\n",
       "      <td>1</td>\n",
       "    </tr>\n",
       "    <tr>\n",
       "      <th>1</th>\n",
       "      <td>2020-09-03</td>\n",
       "      <td>002611889659ab1051fc3e4e870f2b603c3aaa902ffe6a...</td>\n",
       "      <td>902802002</td>\n",
       "      <td>0.033881</td>\n",
       "      <td>2</td>\n",
       "      <td>2020-09-03</td>\n",
       "      <td>2020-09-03</td>\n",
       "      <td>1</td>\n",
       "    </tr>\n",
       "    <tr>\n",
       "      <th>2</th>\n",
       "      <td>2020-09-03</td>\n",
       "      <td>002611889659ab1051fc3e4e870f2b603c3aaa902ffe6a...</td>\n",
       "      <td>805000007</td>\n",
       "      <td>0.050831</td>\n",
       "      <td>2</td>\n",
       "      <td>2020-09-03</td>\n",
       "      <td>2020-09-03</td>\n",
       "      <td>1</td>\n",
       "    </tr>\n",
       "  </tbody>\n",
       "</table>\n",
       "</div>"
      ],
      "text/plain": [
       "  InvoiceDate                                        customer_id  article_id  \\\n",
       "0  2020-09-14  0008968c0d451dbc5a9968da03196fe20051965edde741...   893059004   \n",
       "1  2020-09-03  002611889659ab1051fc3e4e870f2b603c3aaa902ffe6a...   902802002   \n",
       "2  2020-09-03  002611889659ab1051fc3e4e870f2b603c3aaa902ffe6a...   805000007   \n",
       "\n",
       "      price  sales_channel_id       t_dat        date  bought  \n",
       "0  0.035576                 2  2020-09-14  2020-09-14       1  \n",
       "1  0.033881                 2  2020-09-03  2020-09-03       1  \n",
       "2  0.050831                 2  2020-09-03  2020-09-03       1  "
      ]
     },
     "execution_count": 8,
     "metadata": {},
     "output_type": "execute_result"
    }
   ],
   "source": [
    "transactions = pd.read_csv('Data/out.zip')\n",
    "transactions.head(3)"
   ]
  },
  {
   "cell_type": "code",
   "execution_count": 9,
   "metadata": {
    "ExecuteTime": {
     "end_time": "2022-06-01T05:46:49.126682Z",
     "start_time": "2022-06-01T05:46:49.122870Z"
    }
   },
   "outputs": [
    {
     "data": {
      "text/plain": [
       "(671674, 8)"
      ]
     },
     "execution_count": 9,
     "metadata": {},
     "output_type": "execute_result"
    }
   ],
   "source": [
    "transactions.shape"
   ]
  },
  {
   "cell_type": "code",
   "execution_count": 38,
   "metadata": {
    "ExecuteTime": {
     "end_time": "2022-06-01T06:58:08.228919Z",
     "start_time": "2022-06-01T06:58:08.168646Z"
    }
   },
   "outputs": [
    {
     "data": {
      "text/plain": [
       "'ffffcf35913a0bee60e8741cb2b4e78b8a98ee5ff2e6a1778d0116cffd259264'"
      ]
     },
     "execution_count": 38,
     "metadata": {},
     "output_type": "execute_result"
    }
   ],
   "source": [
    "transactions.customer_id.max()"
   ]
  },
  {
   "cell_type": "markdown",
   "metadata": {},
   "source": [
    "Transactions data description:\n",
    "\n",
    "- t_dat : A unique identifier of every customer\n",
    "- customer_id : A unique identifier of every customer (in customers table)\n",
    "- article_id : A unique identifier of every article (in articles table)\n",
    "- price : Price of purchase\n",
    "- sales_channel_id : 1 or 2"
   ]
  },
  {
   "cell_type": "markdown",
   "metadata": {},
   "source": [
    "### Surprise Data & Split "
   ]
  },
  {
   "cell_type": "code",
   "execution_count": 10,
   "metadata": {
    "ExecuteTime": {
     "end_time": "2022-06-01T05:46:57.071006Z",
     "start_time": "2022-06-01T05:46:56.343854Z"
    }
   },
   "outputs": [],
   "source": [
    "# Instantiate reader the same convention as a sklearn class\n",
    "reader = Reader(rating_scale = (0,1))\n",
    "# Load user_data from imported dataframe specifiyng which columns to use\n",
    "customer_data = Dataset.load_from_df(transactions[['customer_id', 'article_id', 'bought']], reader)"
   ]
  },
  {
   "cell_type": "code",
   "execution_count": 11,
   "metadata": {
    "ExecuteTime": {
     "end_time": "2022-06-01T05:46:57.141964Z",
     "start_time": "2022-06-01T05:46:57.138408Z"
    }
   },
   "outputs": [
    {
     "data": {
      "text/plain": [
       "surprise.dataset.DatasetAutoFolds"
      ]
     },
     "execution_count": 11,
     "metadata": {},
     "output_type": "execute_result"
    }
   ],
   "source": [
    "type(customer_data)"
   ]
  },
  {
   "cell_type": "code",
   "execution_count": null,
   "metadata": {
    "ExecuteTime": {
     "end_time": "2022-05-25T00:07:05.843248Z",
     "start_time": "2022-05-25T00:07:05.840508Z"
    }
   },
   "outputs": [],
   "source": [
    "# # Instantiate reader the same convention as a sklearn class\n",
    "# reader = Reader(rating_scale = (0,1))\n",
    "# # Load user_data from imported dataframe specifiyng which columns to use\n",
    "# customer_data = Dataset.load_from_df(total_transactions[['customer_id', 'article_id', 'bought']], reader)"
   ]
  },
  {
   "cell_type": "code",
   "execution_count": null,
   "metadata": {
    "ExecuteTime": {
     "end_time": "2022-05-25T00:07:05.851950Z",
     "start_time": "2022-05-25T00:07:05.849628Z"
    }
   },
   "outputs": [],
   "source": [
    "# # without negative samples\n",
    "# #use sklearn for model selection/choosing \n",
    "# train, test = train_test_split(transactions, random_state=42)\n",
    "\n",
    "# reader = Reader(rating_scale=(0, 1))\n",
    "# train_data = Dataset.load_from_df(train[['customer_id', 'article_id', 'bought']], reader)\n",
    "# test_data = Dataset.load_from_df(test[['customer_id', 'article_id', 'bought']], reader)\n",
    "\n",
    "# train_data2 = train_data.build_full_trainset()\n",
    "# test_data2 = test_data.build_full_trainset().build_testset()"
   ]
  },
  {
   "cell_type": "code",
   "execution_count": null,
   "metadata": {},
   "outputs": [],
   "source": []
  },
  {
   "cell_type": "code",
   "execution_count": null,
   "metadata": {
    "ExecuteTime": {
     "end_time": "2022-05-25T00:07:05.858834Z",
     "start_time": "2022-05-25T00:07:05.855979Z"
    }
   },
   "outputs": [],
   "source": [
    "# #use sklearn for model selection/choosing \n",
    "# train, test = train_test_split(total_transactions, random_state=42)\n",
    "\n",
    "# reader = Reader(rating_scale=(0, 1))\n",
    "# train_data = Dataset.load_from_df(train[['customer_id', 'article_id', 'bought']], reader)\n",
    "# test_data = Dataset.load_from_df(test[['customer_id', 'article_id', 'bought']], reader)\n",
    "\n",
    "# train_data2 = train_data.build_full_trainset()\n",
    "# test_data2 = test_data.build_full_trainset().build_testset()"
   ]
  },
  {
   "cell_type": "code",
   "execution_count": 7,
   "metadata": {
    "ExecuteTime": {
     "end_time": "2022-05-25T21:50:26.258723Z",
     "start_time": "2022-05-25T21:50:24.129635Z"
    }
   },
   "outputs": [],
   "source": [
    "# Perform an appropriate split for the recommendation models\n",
    "trainset, testset = train_test_split(customer_data, test_size=0.2, random_state=42)"
   ]
  },
  {
   "cell_type": "code",
   "execution_count": 8,
   "metadata": {
    "ExecuteTime": {
     "end_time": "2022-05-25T21:50:26.795638Z",
     "start_time": "2022-05-25T21:50:26.790716Z"
    }
   },
   "outputs": [
    {
     "name": "stdout",
     "output_type": "stream",
     "text": [
      "Number of users:  172712 \n",
      "\n",
      "Number of items:  9225 \n",
      "\n"
     ]
    }
   ],
   "source": [
    "#How many users and items are in the trainset\n",
    "print('Number of users: ', trainset.n_users, '\\n')\n",
    "print('Number of items: ', trainset.n_items, '\\n')"
   ]
  },
  {
   "cell_type": "markdown",
   "metadata": {},
   "source": [
    "## Modeling"
   ]
  },
  {
   "cell_type": "markdown",
   "metadata": {},
   "source": [
    "### Baselines without cross validation"
   ]
  },
  {
   "cell_type": "code",
   "execution_count": null,
   "metadata": {
    "ExecuteTime": {
     "end_time": "2022-05-25T00:07:10.062805Z",
     "start_time": "2022-05-25T00:07:07.917855Z"
    }
   },
   "outputs": [],
   "source": [
    "# Instantiate and fit model\n",
    "baseline = NormalPredictor()\n",
    "baseline.fit(trainset)\n",
    "\n",
    "# Return test predictions for model fit on trainset\n",
    "predictions = baseline.test(testset)\n",
    "\n",
    "# Save RMSE score to variable\n",
    "baseline_normal = accuracy.rmse(predictions)"
   ]
  },
  {
   "cell_type": "code",
   "execution_count": null,
   "metadata": {
    "ExecuteTime": {
     "end_time": "2022-05-25T00:07:14.015064Z",
     "start_time": "2022-05-25T00:07:10.064608Z"
    }
   },
   "outputs": [],
   "source": [
    "# Instantiate and fit model\n",
    "baseline2 = BaselineOnly()\n",
    "baseline2.fit(trainset)\n",
    "\n",
    "# Return test predictions for model fit on trainset\n",
    "predictions = baseline2.test(testset)\n",
    "\n",
    "# Save RMSE score to variable\n",
    "baseline_only = accuracy.rmse(predictions)"
   ]
  },
  {
   "cell_type": "markdown",
   "metadata": {},
   "source": [
    "### Baseline with Cross Validation train test split"
   ]
  },
  {
   "cell_type": "code",
   "execution_count": null,
   "metadata": {
    "ExecuteTime": {
     "end_time": "2022-05-25T00:07:14.018920Z",
     "start_time": "2022-05-25T00:07:14.017107Z"
    }
   },
   "outputs": [],
   "source": [
    "# dummy_model = NormalPredictor()\n",
    "# #cross_validate(dummy_model, train_data, measures=['RMSE'], cv=5, verbose=True)\n",
    "\n",
    "# predictions = dummy_model.fit(trainset).test(testset)\n",
    "# baseline_rsme = accuracy.rmse(predictions)\n",
    "# baseline_rsme"
   ]
  },
  {
   "cell_type": "code",
   "execution_count": null,
   "metadata": {
    "ExecuteTime": {
     "end_time": "2022-05-25T00:07:14.022426Z",
     "start_time": "2022-05-25T00:07:14.020490Z"
    }
   },
   "outputs": [],
   "source": [
    "# dummy_model2 = BaselineOnly()\n",
    "# #cross_validate(dummy_model, train_data, measures=['RMSE'], cv=5, verbose=True)\n",
    "\n",
    "# predictions = dummy_model2.fit(trainset).test(testset)\n",
    "# baseline_rsme2 = accuracy.rmse(predictions)\n",
    "# baseline_rsme2"
   ]
  },
  {
   "cell_type": "markdown",
   "metadata": {},
   "source": [
    "### SVD"
   ]
  },
  {
   "cell_type": "code",
   "execution_count": 36,
   "metadata": {
    "ExecuteTime": {
     "end_time": "2022-05-25T22:59:25.739593Z",
     "start_time": "2022-05-25T22:58:43.389534Z"
    }
   },
   "outputs": [
    {
     "name": "stdout",
     "output_type": "stream",
     "text": [
      "RMSE: 0.0463\n"
     ]
    },
    {
     "data": {
      "text/plain": [
       "0.04634143319111156"
      ]
     },
     "execution_count": 36,
     "metadata": {},
     "output_type": "execute_result"
    }
   ],
   "source": [
    "svd_model = SVD()\n",
    "svd_model.fit(trainset)\n",
    "svd_predictions = svd_model.test(testset)\n",
    "svd_simple_predictions = accuracy.rmse(svd_predictions)\n",
    "svd_simple_predictions"
   ]
  },
  {
   "cell_type": "code",
   "execution_count": 37,
   "metadata": {
    "ExecuteTime": {
     "end_time": "2022-05-25T22:59:33.121099Z",
     "start_time": "2022-05-25T22:59:33.117147Z"
    }
   },
   "outputs": [
    {
     "data": {
      "text/plain": [
       "Prediction(uid='0008968c0d451dbc5a9968da03196fe20051965edde7413775c4eb3be9abe9c2', iid=902802002, r_ui=None, est=0.8988532711706756, details={'was_impossible': False})"
      ]
     },
     "execution_count": 37,
     "metadata": {},
     "output_type": "execute_result"
    }
   ],
   "source": [
    "svd_model.predict('0008968c0d451dbc5a9968da03196fe20051965edde7413775c4eb3be9abe9c2', 902802002)"
   ]
  },
  {
   "cell_type": "code",
   "execution_count": 38,
   "metadata": {
    "ExecuteTime": {
     "end_time": "2022-05-25T22:59:38.220479Z",
     "start_time": "2022-05-25T22:59:38.148054Z"
    }
   },
   "outputs": [
    {
     "data": {
      "text/html": [
       "<div>\n",
       "<style scoped>\n",
       "    .dataframe tbody tr th:only-of-type {\n",
       "        vertical-align: middle;\n",
       "    }\n",
       "\n",
       "    .dataframe tbody tr th {\n",
       "        vertical-align: top;\n",
       "    }\n",
       "\n",
       "    .dataframe thead th {\n",
       "        text-align: right;\n",
       "    }\n",
       "</style>\n",
       "<table border=\"1\" class=\"dataframe\">\n",
       "  <thead>\n",
       "    <tr style=\"text-align: right;\">\n",
       "      <th></th>\n",
       "      <th>InvoiceDate</th>\n",
       "      <th>customer_id</th>\n",
       "      <th>article_id</th>\n",
       "      <th>price</th>\n",
       "      <th>sales_channel_id</th>\n",
       "      <th>t_dat</th>\n",
       "      <th>date</th>\n",
       "      <th>bought</th>\n",
       "    </tr>\n",
       "  </thead>\n",
       "  <tbody>\n",
       "  </tbody>\n",
       "</table>\n",
       "</div>"
      ],
      "text/plain": [
       "Empty DataFrame\n",
       "Columns: [InvoiceDate, customer_id, article_id, price, sales_channel_id, t_dat, date, bought]\n",
       "Index: []"
      ]
     },
     "execution_count": 38,
     "metadata": {},
     "output_type": "execute_result"
    }
   ],
   "source": [
    "transactions.loc[(transactions['customer_id'] == '0008968c0d451dbc5a9968da03196fe20051965edde7413775c4eb3be9abe9c2') & \n",
    "                 (transactions['article_id'] == 902802002)]"
   ]
  },
  {
   "cell_type": "code",
   "execution_count": null,
   "metadata": {
    "ExecuteTime": {
     "end_time": "2022-05-25T00:15:07.152240Z",
     "start_time": "2022-05-25T00:07:52.949948Z"
    }
   },
   "outputs": [],
   "source": [
    "param_grid = {'n_factors':[10,50],'n_epochs': [5, 15], 'lr_all': [0.002,0.01],\n",
    "             'reg_all': [0.2,0.6]}\n",
    "gs_model_SVD1 = GridSearchCV(SVD,param_grid=param_grid,joblib_verbose=5, measures=['RMSE'], n_jobs=-2)\n",
    "gs_model_SVD1.fit(customer_data)\n",
    "\n",
    "gs_model_SVD1.best_params"
   ]
  },
  {
   "cell_type": "markdown",
   "metadata": {
    "ExecuteTime": {
     "start_time": "2022-05-24T23:59:48.096Z"
    }
   },
   "source": [
    "explain"
   ]
  },
  {
   "cell_type": "code",
   "execution_count": null,
   "metadata": {
    "ExecuteTime": {
     "end_time": "2022-05-25T00:27:54.467357Z",
     "start_time": "2022-05-25T00:15:07.155681Z"
    }
   },
   "outputs": [],
   "source": [
    "param_grid2 = {'n_factors':[5,10],'n_epochs': [15, 50], 'lr_all': [0.001, 0.01],\n",
    "             'reg_all': [0.6, 0.8]}\n",
    "gs_model_SVD2 = GridSearchCV(SVD,param_grid=param_grid2,joblib_verbose=5, measures=['RMSE'], n_jobs=-2)\n",
    "gs_model_SVD2.fit(customer_data)\n",
    "\n",
    "gs_model_SVD2.best_params"
   ]
  },
  {
   "cell_type": "markdown",
   "metadata": {
    "ExecuteTime": {
     "start_time": "2022-05-24T23:59:48.100Z"
    }
   },
   "source": [
    "explain"
   ]
  },
  {
   "cell_type": "code",
   "execution_count": null,
   "metadata": {
    "ExecuteTime": {
     "end_time": "2022-05-25T00:39:45.200861Z",
     "start_time": "2022-05-25T00:27:54.471843Z"
    },
    "scrolled": true
   },
   "outputs": [],
   "source": [
    "param_grid3 = {'n_factors':[10],'n_epochs': [50, 100], 'lr_all': [0.1, 0.2],\n",
    "             'reg_all': [0.8, 0.9]}\n",
    "gs_model_SVD3 = GridSearchCV(SVD,param_grid=param_grid3,joblib_verbose=5, measures=['RMSE'], n_jobs=-2)\n",
    "gs_model_SVD3.fit(customer_data)\n",
    "\n",
    "gs_model_SVD3.best_params"
   ]
  },
  {
   "cell_type": "code",
   "execution_count": null,
   "metadata": {
    "ExecuteTime": {
     "start_time": "2022-05-24T23:59:48.105Z"
    }
   },
   "outputs": [],
   "source": []
  },
  {
   "cell_type": "code",
   "execution_count": null,
   "metadata": {
    "ExecuteTime": {
     "end_time": "2022-05-25T00:58:05.750318Z",
     "start_time": "2022-05-25T00:39:45.204654Z"
    },
    "scrolled": true
   },
   "outputs": [],
   "source": [
    "param_grid4 = {'n_factors':[10],'n_epochs': [100, 150], 'lr_all': [0.2, 0.3],\n",
    "             'reg_all': [0.7, 0.8]}\n",
    "gs_model_SVD4 = GridSearchCV(SVD,param_grid=param_grid4,joblib_verbose=5, measures=['RMSE'], n_jobs=-2)\n",
    "gs_model_SVD4.fit(customer_data)\n",
    "\n",
    "gs_model_SVD4.best_params"
   ]
  },
  {
   "cell_type": "markdown",
   "metadata": {},
   "source": [
    "We find the best parameters for SVD modeling are - \n",
    "- n_factors : 10\n",
    "- n_epochs : 100\n",
    "- lr_all :0.2\n",
    "- reg_all : 0.8\n",
    "\n",
    "Now we build a model with the best parameters and test it on our testset."
   ]
  },
  {
   "cell_type": "code",
   "execution_count": 39,
   "metadata": {
    "ExecuteTime": {
     "end_time": "2022-05-25T23:00:30.810968Z",
     "start_time": "2022-05-25T22:59:56.884682Z"
    }
   },
   "outputs": [
    {
     "name": "stdout",
     "output_type": "stream",
     "text": [
      "RMSE: 0.0115\n"
     ]
    },
    {
     "data": {
      "text/plain": [
       "0.011460277893248154"
      ]
     },
     "execution_count": 39,
     "metadata": {},
     "output_type": "execute_result"
    }
   ],
   "source": [
    "svd_model2 = SVD(n_factors= 10, n_epochs= 50)\n",
    "svd_model2.fit(trainset)\n",
    "svd_predictions2 = svd_model2.test(testset)\n",
    "svd_tuned_predictions = accuracy.rmse(svd_predictions2)\n",
    "svd_tuned_predictions"
   ]
  },
  {
   "cell_type": "markdown",
   "metadata": {},
   "source": [
    "### NFM "
   ]
  },
  {
   "cell_type": "markdown",
   "metadata": {
    "ExecuteTime": {
     "end_time": "2022-05-24T21:45:37.922853Z",
     "start_time": "2022-05-24T21:45:37.919310Z"
    }
   },
   "source": [
    "Now, we explore the `Non-negative Matrix Factorization (NMF)` from the `suprise` library. The only difference between this algorithm and the previous algorithm SVD is that in NMF, a specific step size is set for the stochastic gradient descent process of regularization. This is done to ensure that all user and item factors are kept positive. While this model can be prone to over-fitting, this can be mitigated with steps to reduce the dimensionality of our data/factors."
   ]
  },
  {
   "cell_type": "code",
   "execution_count": null,
   "metadata": {
    "ExecuteTime": {
     "end_time": "2022-05-25T01:00:11.566538Z",
     "start_time": "2022-05-25T00:59:08.204621Z"
    }
   },
   "outputs": [],
   "source": [
    "nmf_model = NMF()\n",
    "nmf_model.fit(trainset)\n",
    "nmf_predictions = nmf_model.test(testset)\n",
    "nmf_simple_predictions = accuracy.rmse(nmf_predictions)\n",
    "nmf_simple_predictions"
   ]
  },
  {
   "cell_type": "code",
   "execution_count": null,
   "metadata": {
    "ExecuteTime": {
     "end_time": "2022-05-25T01:56:54.072168Z",
     "start_time": "2022-05-25T01:40:51.885215Z"
    }
   },
   "outputs": [],
   "source": [
    "param_grid = {'n_factors':[10,15,20],'n_epochs': [25, 50, 75]}\n",
    "gs_model_NFM = GridSearchCV(NMF,param_grid=param_grid,joblib_verbose=5, measures=['RMSE'], n_jobs=-2)\n",
    "gs_model_NFM.fit(customer_data)\n",
    "\n",
    "gs_model_NFM.best_params"
   ]
  },
  {
   "cell_type": "markdown",
   "metadata": {},
   "source": [
    "explain"
   ]
  },
  {
   "cell_type": "code",
   "execution_count": null,
   "metadata": {
    "ExecuteTime": {
     "end_time": "2022-05-25T02:02:23.550541Z",
     "start_time": "2022-05-25T01:56:57.047646Z"
    }
   },
   "outputs": [],
   "source": [
    "param_grid = {'n_factors':[10],'n_epochs': [75, 100]}\n",
    "gs_model_NFM2 = GridSearchCV(NMF,param_grid=param_grid,joblib_verbose=5, measures=['RMSE'], n_jobs=-2)\n",
    "gs_model_NFM2.fit(customer_data)\n",
    "\n",
    "gs_model_NFM2.best_params"
   ]
  },
  {
   "cell_type": "markdown",
   "metadata": {
    "ExecuteTime": {
     "start_time": "2022-05-24T23:59:48.140Z"
    }
   },
   "source": [
    "Explain"
   ]
  },
  {
   "cell_type": "markdown",
   "metadata": {},
   "source": [
    "We find the best parameters for NMF modeling are - \n",
    "- n_factors : 10\n",
    "- n_epochs : 100\n",
    "\n",
    "Now we build a model with the best parameters and test it on our testset."
   ]
  },
  {
   "cell_type": "code",
   "execution_count": null,
   "metadata": {
    "ExecuteTime": {
     "end_time": "2022-05-25T02:04:11.279550Z",
     "start_time": "2022-05-25T02:02:26.401617Z"
    }
   },
   "outputs": [],
   "source": [
    "nmf_model2 = NMF(n_factors = 10, n_epochs = 100)\n",
    "nmf_model2.fit(trainset)\n",
    "nmf_predictions2 = nmf_model2.test(testset)\n",
    "nmf_tuned_predictions = accuracy.rmse(nmf_predictions2)\n",
    "\n",
    "nmf_tuned_predictions"
   ]
  },
  {
   "cell_type": "markdown",
   "metadata": {},
   "source": [
    "## SVD ++ "
   ]
  },
  {
   "cell_type": "markdown",
   "metadata": {},
   "source": [
    "For a final look at models from the `surprise` library, I wanted to try and utilize the SVD++ algorithm, again, very similar to SVD. The difference is that SVD++ attempts to add an extension onto the base SVD that uses implicit rating as well as explicit. In other words it infers the action of rating an item as a latent factor regardless of the rating value given to the item while also factoring the actual rating value. I thought this might further improve the RMSE by taking into account reviewers who have rated a large number of eBooks. Please note that this Grid Search will take a very long time to run."
   ]
  },
  {
   "cell_type": "code",
   "execution_count": null,
   "metadata": {
    "ExecuteTime": {
     "end_time": "2022-05-25T02:06:17.555647Z",
     "start_time": "2022-05-25T02:04:14.918154Z"
    }
   },
   "outputs": [],
   "source": [
    "# Instantiate - fit on trainset - score the model on testset\n",
    "SVDpp_model = SVDpp()\n",
    "SVDpp_model.fit(trainset)\n",
    "SVDpp_predictions = SVDpp_model.test(testset)\n",
    "svdpp_simple_predictions = accuracy.rmse(SVDpp_predictions)\n",
    "\n",
    "svdpp_simple_predictions"
   ]
  },
  {
   "cell_type": "code",
   "execution_count": null,
   "metadata": {
    "ExecuteTime": {
     "end_time": "2022-05-25T02:22:17.411191Z",
     "start_time": "2022-05-25T02:06:21.799235Z"
    },
    "scrolled": true
   },
   "outputs": [],
   "source": [
    "# New dictionary for SVD++\n",
    "svdpp_param_grid = {'n_factors':[1, 5], 'n_epochs':[25, 50], 'reg_all':[0.02, 0.05]}\n",
    "svdpp_gs_model = GridSearchCV(SVDpp, param_grid=svdpp_param_grid, cv=3, joblib_verbose=5, n_jobs=-2, measures=['RMSE'])\n",
    "\n",
    "# Fit and return the best_params based on cross validation this will take a VERY long time to run\n",
    "svdpp_gs_model.fit(customer_data)\n",
    "\n",
    "svdpp_gs_model.best_params"
   ]
  },
  {
   "cell_type": "markdown",
   "metadata": {
    "ExecuteTime": {
     "start_time": "2022-05-24T23:59:48.148Z"
    }
   },
   "source": [
    "explain"
   ]
  },
  {
   "cell_type": "code",
   "execution_count": null,
   "metadata": {
    "ExecuteTime": {
     "end_time": "2022-05-25T02:45:01.189734Z",
     "start_time": "2022-05-25T02:29:57.396514Z"
    }
   },
   "outputs": [],
   "source": [
    "# New dictionary for SVD++\n",
    "svdpp_param_grid2 = {'n_factors':[1], 'n_epochs':[50, 100], 'reg_all':[0.05, 0.1]}\n",
    "svdpp_gs_model2 = GridSearchCV(SVDpp, param_grid=svdpp_param_grid2, cv=3, joblib_verbose=5, n_jobs=-2, measures=['RMSE'])\n",
    "\n",
    "# Fit and return the best_params based on cross validation this will take a VERY long time to run\n",
    "svdpp_gs_model2.fit(customer_data)\n",
    "\n",
    "svdpp_gs_model2.best_params"
   ]
  },
  {
   "cell_type": "markdown",
   "metadata": {},
   "source": [
    "We find the best parameters for SVD ++ modeling are - \n",
    "- n_factors : 1\n",
    "- n_epochs : 100\n",
    "- reg_all : 0.1\n",
    "\n",
    "Now we build a model with the best parameters and test it on our testset."
   ]
  },
  {
   "cell_type": "code",
   "execution_count": null,
   "metadata": {
    "ExecuteTime": {
     "end_time": "2022-05-25T03:15:14.441779Z",
     "start_time": "2022-05-25T03:08:29.325317Z"
    }
   },
   "outputs": [],
   "source": [
    "# Instantiate - fit on trainset - score the model on testset\n",
    "SVDpp_model2 = SVDpp(n_factors=1, n_epochs=100, reg_all=0.1)\n",
    "SVDpp_model2.fit(trainset)\n",
    "SVDpp_predictions2 = SVDpp_model2.test(testset)\n",
    "svdpp_tuned_predictions = accuracy.rmse(SVDpp_predictions2)\n",
    "\n",
    "svdpp_tuned_predictions"
   ]
  },
  {
   "cell_type": "markdown",
   "metadata": {},
   "source": [
    "## Model Performance"
   ]
  },
  {
   "cell_type": "code",
   "execution_count": null,
   "metadata": {
    "ExecuteTime": {
     "end_time": "2022-05-24T22:52:57.706059Z",
     "start_time": "2022-05-24T22:52:57.703084Z"
    }
   },
   "outputs": [],
   "source": [
    "# # just to code ahead! \n",
    "# svd_simple_predictions = 0.04\n",
    "# svd_tuned_predictions = 5.246579612895187e-19\n",
    "# nmf_simple_predictions = 0.0676\n",
    "# nmf_tuned_predictions = 0.0583\n",
    "# svdpp_simple_predictions = 0.0207\n",
    "# svdpp_tuned_predictions = 0.0207"
   ]
  },
  {
   "cell_type": "code",
   "execution_count": null,
   "metadata": {
    "ExecuteTime": {
     "end_time": "2022-05-25T03:36:51.450787Z",
     "start_time": "2022-05-25T03:36:51.447807Z"
    }
   },
   "outputs": [],
   "source": [
    "X = ['Baseline', 'SVD Basic', 'SVD Tuned', 'NMF Basic', 'NMF tuned', 'SVD ++ Basic', 'SVD ++ Tuned']\n",
    "y = [baseline_only, svd_simple_predictions, svd_tuned_predictions, nmf_simple_predictions, nmf_tuned_predictions, svdpp_simple_predictions, svdpp_tuned_predictions]"
   ]
  },
  {
   "cell_type": "code",
   "execution_count": null,
   "metadata": {
    "ExecuteTime": {
     "end_time": "2022-05-25T03:37:43.339700Z",
     "start_time": "2022-05-25T03:37:43.140885Z"
    }
   },
   "outputs": [],
   "source": [
    "fig, ax = plt.subplots()\n",
    "plt.bar(X, y, color=['black', 'green', 'blue', 'blue', 'blue', 'blue', 'blue'])\n",
    "plt.xticks(rotation=90)\n",
    "plt.ylim(0, .075)\n",
    "plt.grid(False)\n",
    "ax.set_title(\"Surprise Models\")\n",
    "plt.ylabel('Root Mean Squared Error (RMSE)')\n",
    "# plt.savefig('Images/Model_bar.png', dpi=300, bbox_inches='tight');"
   ]
  },
  {
   "cell_type": "markdown",
   "metadata": {},
   "source": [
    "# Recommendation Function"
   ]
  },
  {
   "cell_type": "markdown",
   "metadata": {},
   "source": [
    "### Building"
   ]
  },
  {
   "cell_type": "markdown",
   "metadata": {},
   "source": [
    "##### Final Model"
   ]
  },
  {
   "cell_type": "code",
   "execution_count": 12,
   "metadata": {
    "ExecuteTime": {
     "end_time": "2022-06-01T05:47:14.186614Z",
     "start_time": "2022-06-01T05:47:12.951586Z"
    }
   },
   "outputs": [],
   "source": [
    "# Using Surprise a full trainset incorporating all data can be built and fit to the model in order to make full predictions\n",
    "trainset_full = customer_data.build_full_trainset()"
   ]
  },
  {
   "cell_type": "code",
   "execution_count": 13,
   "metadata": {
    "ExecuteTime": {
     "end_time": "2022-06-01T05:47:50.712333Z",
     "start_time": "2022-06-01T05:47:14.255142Z"
    }
   },
   "outputs": [
    {
     "data": {
      "text/plain": [
       "<surprise.prediction_algorithms.matrix_factorization.SVD at 0x7fd993f76a60>"
      ]
     },
     "execution_count": 13,
     "metadata": {},
     "output_type": "execute_result"
    }
   ],
   "source": [
    "final_model = SVD(n_factors= 10, n_epochs= 50)\n",
    "final_model.fit(trainset_full)"
   ]
  },
  {
   "cell_type": "code",
   "execution_count": 14,
   "metadata": {
    "ExecuteTime": {
     "end_time": "2022-06-01T05:47:51.584850Z",
     "start_time": "2022-06-01T05:47:50.784972Z"
    }
   },
   "outputs": [],
   "source": [
    "# The model is pickled and saved into the Model folder in the repository so it can used in the app.py file\n",
    "pickle.dump(final_model, open('Model/collaborative_model.sav', 'wb'))"
   ]
  },
  {
   "cell_type": "code",
   "execution_count": null,
   "metadata": {},
   "outputs": [],
   "source": [
    "collab_model = pickle.load(open('Model/collaborative_model.sav', 'rb'))"
   ]
  },
  {
   "cell_type": "code",
   "execution_count": 15,
   "metadata": {
    "ExecuteTime": {
     "end_time": "2022-06-01T05:47:51.660084Z",
     "start_time": "2022-06-01T05:47:51.647690Z"
    }
   },
   "outputs": [
    {
     "data": {
      "text/html": [
       "<div>\n",
       "<style scoped>\n",
       "    .dataframe tbody tr th:only-of-type {\n",
       "        vertical-align: middle;\n",
       "    }\n",
       "\n",
       "    .dataframe tbody tr th {\n",
       "        vertical-align: top;\n",
       "    }\n",
       "\n",
       "    .dataframe thead th {\n",
       "        text-align: right;\n",
       "    }\n",
       "</style>\n",
       "<table border=\"1\" class=\"dataframe\">\n",
       "  <thead>\n",
       "    <tr style=\"text-align: right;\">\n",
       "      <th></th>\n",
       "      <th>InvoiceDate</th>\n",
       "      <th>customer_id</th>\n",
       "      <th>article_id</th>\n",
       "      <th>price</th>\n",
       "      <th>sales_channel_id</th>\n",
       "      <th>t_dat</th>\n",
       "      <th>date</th>\n",
       "      <th>bought</th>\n",
       "    </tr>\n",
       "  </thead>\n",
       "  <tbody>\n",
       "    <tr>\n",
       "      <th>671664</th>\n",
       "      <td>2020-09-22</td>\n",
       "      <td>ff732b98019465f078144bae647d7d9765d76e3431ef92...</td>\n",
       "      <td>651591001</td>\n",
       "      <td>0.032186</td>\n",
       "      <td>2</td>\n",
       "      <td>2020-09-22</td>\n",
       "      <td>2020-09-22</td>\n",
       "      <td>1</td>\n",
       "    </tr>\n",
       "    <tr>\n",
       "      <th>671665</th>\n",
       "      <td>2020-09-22</td>\n",
       "      <td>ff732b98019465f078144bae647d7d9765d76e3431ef92...</td>\n",
       "      <td>864339003</td>\n",
       "      <td>0.022017</td>\n",
       "      <td>2</td>\n",
       "      <td>2020-09-22</td>\n",
       "      <td>2020-09-22</td>\n",
       "      <td>1</td>\n",
       "    </tr>\n",
       "    <tr>\n",
       "      <th>671666</th>\n",
       "      <td>2020-09-22</td>\n",
       "      <td>ff732b98019465f078144bae647d7d9765d76e3431ef92...</td>\n",
       "      <td>938667001</td>\n",
       "      <td>0.010153</td>\n",
       "      <td>2</td>\n",
       "      <td>2020-09-22</td>\n",
       "      <td>2020-09-22</td>\n",
       "      <td>1</td>\n",
       "    </tr>\n",
       "    <tr>\n",
       "      <th>671667</th>\n",
       "      <td>2020-09-22</td>\n",
       "      <td>ffb72741f3bc3d98855703b55d34e05bc7893a5d6a99a3...</td>\n",
       "      <td>762846006</td>\n",
       "      <td>0.025407</td>\n",
       "      <td>2</td>\n",
       "      <td>2020-09-22</td>\n",
       "      <td>2020-09-22</td>\n",
       "      <td>1</td>\n",
       "    </tr>\n",
       "    <tr>\n",
       "      <th>671668</th>\n",
       "      <td>2020-09-22</td>\n",
       "      <td>ffb72741f3bc3d98855703b55d34e05bc7893a5d6a99a3...</td>\n",
       "      <td>762846027</td>\n",
       "      <td>0.025407</td>\n",
       "      <td>2</td>\n",
       "      <td>2020-09-22</td>\n",
       "      <td>2020-09-22</td>\n",
       "      <td>1</td>\n",
       "    </tr>\n",
       "    <tr>\n",
       "      <th>671669</th>\n",
       "      <td>2020-09-22</td>\n",
       "      <td>ffb72741f3bc3d98855703b55d34e05bc7893a5d6a99a3...</td>\n",
       "      <td>914404001</td>\n",
       "      <td>0.042356</td>\n",
       "      <td>2</td>\n",
       "      <td>2020-09-22</td>\n",
       "      <td>2020-09-22</td>\n",
       "      <td>1</td>\n",
       "    </tr>\n",
       "    <tr>\n",
       "      <th>671670</th>\n",
       "      <td>2020-09-22</td>\n",
       "      <td>ffb72741f3bc3d98855703b55d34e05bc7893a5d6a99a3...</td>\n",
       "      <td>751471041</td>\n",
       "      <td>0.033881</td>\n",
       "      <td>2</td>\n",
       "      <td>2020-09-22</td>\n",
       "      <td>2020-09-22</td>\n",
       "      <td>1</td>\n",
       "    </tr>\n",
       "    <tr>\n",
       "      <th>671671</th>\n",
       "      <td>2020-09-22</td>\n",
       "      <td>ffb72741f3bc3d98855703b55d34e05bc7893a5d6a99a3...</td>\n",
       "      <td>751471038</td>\n",
       "      <td>0.033881</td>\n",
       "      <td>2</td>\n",
       "      <td>2020-09-22</td>\n",
       "      <td>2020-09-22</td>\n",
       "      <td>1</td>\n",
       "    </tr>\n",
       "    <tr>\n",
       "      <th>671672</th>\n",
       "      <td>2020-09-22</td>\n",
       "      <td>ffc92c3f7b0b302f393c2968b290f6e5c5b5510d1cf1df...</td>\n",
       "      <td>895730002</td>\n",
       "      <td>0.045746</td>\n",
       "      <td>2</td>\n",
       "      <td>2020-09-22</td>\n",
       "      <td>2020-09-22</td>\n",
       "      <td>1</td>\n",
       "    </tr>\n",
       "    <tr>\n",
       "      <th>671673</th>\n",
       "      <td>2020-09-22</td>\n",
       "      <td>ffc92c3f7b0b302f393c2968b290f6e5c5b5510d1cf1df...</td>\n",
       "      <td>740519002</td>\n",
       "      <td>0.045746</td>\n",
       "      <td>2</td>\n",
       "      <td>2020-09-22</td>\n",
       "      <td>2020-09-22</td>\n",
       "      <td>1</td>\n",
       "    </tr>\n",
       "  </tbody>\n",
       "</table>\n",
       "</div>"
      ],
      "text/plain": [
       "       InvoiceDate                                        customer_id  \\\n",
       "671664  2020-09-22  ff732b98019465f078144bae647d7d9765d76e3431ef92...   \n",
       "671665  2020-09-22  ff732b98019465f078144bae647d7d9765d76e3431ef92...   \n",
       "671666  2020-09-22  ff732b98019465f078144bae647d7d9765d76e3431ef92...   \n",
       "671667  2020-09-22  ffb72741f3bc3d98855703b55d34e05bc7893a5d6a99a3...   \n",
       "671668  2020-09-22  ffb72741f3bc3d98855703b55d34e05bc7893a5d6a99a3...   \n",
       "671669  2020-09-22  ffb72741f3bc3d98855703b55d34e05bc7893a5d6a99a3...   \n",
       "671670  2020-09-22  ffb72741f3bc3d98855703b55d34e05bc7893a5d6a99a3...   \n",
       "671671  2020-09-22  ffb72741f3bc3d98855703b55d34e05bc7893a5d6a99a3...   \n",
       "671672  2020-09-22  ffc92c3f7b0b302f393c2968b290f6e5c5b5510d1cf1df...   \n",
       "671673  2020-09-22  ffc92c3f7b0b302f393c2968b290f6e5c5b5510d1cf1df...   \n",
       "\n",
       "        article_id     price  sales_channel_id       t_dat        date  bought  \n",
       "671664   651591001  0.032186                 2  2020-09-22  2020-09-22       1  \n",
       "671665   864339003  0.022017                 2  2020-09-22  2020-09-22       1  \n",
       "671666   938667001  0.010153                 2  2020-09-22  2020-09-22       1  \n",
       "671667   762846006  0.025407                 2  2020-09-22  2020-09-22       1  \n",
       "671668   762846027  0.025407                 2  2020-09-22  2020-09-22       1  \n",
       "671669   914404001  0.042356                 2  2020-09-22  2020-09-22       1  \n",
       "671670   751471041  0.033881                 2  2020-09-22  2020-09-22       1  \n",
       "671671   751471038  0.033881                 2  2020-09-22  2020-09-22       1  \n",
       "671672   895730002  0.045746                 2  2020-09-22  2020-09-22       1  \n",
       "671673   740519002  0.045746                 2  2020-09-22  2020-09-22       1  "
      ]
     },
     "execution_count": 15,
     "metadata": {},
     "output_type": "execute_result"
    }
   ],
   "source": [
    "transactions.tail(10)"
   ]
  },
  {
   "cell_type": "markdown",
   "metadata": {},
   "source": [
    "Start from here... \n",
    "- we have to load the articles df here as meta data with article id as the index \n",
    "- build function"
   ]
  },
  {
   "cell_type": "code",
   "execution_count": 16,
   "metadata": {
    "ExecuteTime": {
     "end_time": "2022-06-01T05:47:52.511862Z",
     "start_time": "2022-06-01T05:47:51.728893Z"
    }
   },
   "outputs": [
    {
     "data": {
      "text/html": [
       "<div>\n",
       "<style scoped>\n",
       "    .dataframe tbody tr th:only-of-type {\n",
       "        vertical-align: middle;\n",
       "    }\n",
       "\n",
       "    .dataframe tbody tr th {\n",
       "        vertical-align: top;\n",
       "    }\n",
       "\n",
       "    .dataframe thead th {\n",
       "        text-align: right;\n",
       "    }\n",
       "</style>\n",
       "<table border=\"1\" class=\"dataframe\">\n",
       "  <thead>\n",
       "    <tr style=\"text-align: right;\">\n",
       "      <th></th>\n",
       "      <th>product_code</th>\n",
       "      <th>prod_name</th>\n",
       "      <th>product_type_no</th>\n",
       "      <th>product_type_name</th>\n",
       "      <th>product_group_name</th>\n",
       "      <th>graphical_appearance_no</th>\n",
       "      <th>graphical_appearance_name</th>\n",
       "      <th>colour_group_code</th>\n",
       "      <th>colour_group_name</th>\n",
       "      <th>perceived_colour_value_id</th>\n",
       "      <th>perceived_colour_value_name</th>\n",
       "      <th>perceived_colour_master_id</th>\n",
       "      <th>perceived_colour_master_name</th>\n",
       "      <th>department_no</th>\n",
       "      <th>department_name</th>\n",
       "      <th>index_code</th>\n",
       "      <th>index_name</th>\n",
       "      <th>index_group_no</th>\n",
       "      <th>index_group_name</th>\n",
       "      <th>section_no</th>\n",
       "      <th>section_name</th>\n",
       "      <th>garment_group_no</th>\n",
       "      <th>garment_group_name</th>\n",
       "      <th>detail_desc</th>\n",
       "    </tr>\n",
       "    <tr>\n",
       "      <th>article_id</th>\n",
       "      <th></th>\n",
       "      <th></th>\n",
       "      <th></th>\n",
       "      <th></th>\n",
       "      <th></th>\n",
       "      <th></th>\n",
       "      <th></th>\n",
       "      <th></th>\n",
       "      <th></th>\n",
       "      <th></th>\n",
       "      <th></th>\n",
       "      <th></th>\n",
       "      <th></th>\n",
       "      <th></th>\n",
       "      <th></th>\n",
       "      <th></th>\n",
       "      <th></th>\n",
       "      <th></th>\n",
       "      <th></th>\n",
       "      <th></th>\n",
       "      <th></th>\n",
       "      <th></th>\n",
       "      <th></th>\n",
       "      <th></th>\n",
       "    </tr>\n",
       "  </thead>\n",
       "  <tbody>\n",
       "    <tr>\n",
       "      <th>108775015</th>\n",
       "      <td>108775</td>\n",
       "      <td>Strap top</td>\n",
       "      <td>253</td>\n",
       "      <td>Vest top</td>\n",
       "      <td>Garment Upper body</td>\n",
       "      <td>1010016</td>\n",
       "      <td>Solid</td>\n",
       "      <td>9</td>\n",
       "      <td>Black</td>\n",
       "      <td>4</td>\n",
       "      <td>Dark</td>\n",
       "      <td>5</td>\n",
       "      <td>Black</td>\n",
       "      <td>1676</td>\n",
       "      <td>Jersey Basic</td>\n",
       "      <td>A</td>\n",
       "      <td>Ladieswear</td>\n",
       "      <td>1</td>\n",
       "      <td>Ladieswear</td>\n",
       "      <td>16</td>\n",
       "      <td>Womens Everyday Basics</td>\n",
       "      <td>1002</td>\n",
       "      <td>Jersey Basic</td>\n",
       "      <td>Jersey top with narrow shoulder straps.</td>\n",
       "    </tr>\n",
       "    <tr>\n",
       "      <th>108775044</th>\n",
       "      <td>108775</td>\n",
       "      <td>Strap top</td>\n",
       "      <td>253</td>\n",
       "      <td>Vest top</td>\n",
       "      <td>Garment Upper body</td>\n",
       "      <td>1010016</td>\n",
       "      <td>Solid</td>\n",
       "      <td>10</td>\n",
       "      <td>White</td>\n",
       "      <td>3</td>\n",
       "      <td>Light</td>\n",
       "      <td>9</td>\n",
       "      <td>White</td>\n",
       "      <td>1676</td>\n",
       "      <td>Jersey Basic</td>\n",
       "      <td>A</td>\n",
       "      <td>Ladieswear</td>\n",
       "      <td>1</td>\n",
       "      <td>Ladieswear</td>\n",
       "      <td>16</td>\n",
       "      <td>Womens Everyday Basics</td>\n",
       "      <td>1002</td>\n",
       "      <td>Jersey Basic</td>\n",
       "      <td>Jersey top with narrow shoulder straps.</td>\n",
       "    </tr>\n",
       "    <tr>\n",
       "      <th>108775051</th>\n",
       "      <td>108775</td>\n",
       "      <td>Strap top (1)</td>\n",
       "      <td>253</td>\n",
       "      <td>Vest top</td>\n",
       "      <td>Garment Upper body</td>\n",
       "      <td>1010017</td>\n",
       "      <td>Stripe</td>\n",
       "      <td>11</td>\n",
       "      <td>Off White</td>\n",
       "      <td>1</td>\n",
       "      <td>Dusty Light</td>\n",
       "      <td>9</td>\n",
       "      <td>White</td>\n",
       "      <td>1676</td>\n",
       "      <td>Jersey Basic</td>\n",
       "      <td>A</td>\n",
       "      <td>Ladieswear</td>\n",
       "      <td>1</td>\n",
       "      <td>Ladieswear</td>\n",
       "      <td>16</td>\n",
       "      <td>Womens Everyday Basics</td>\n",
       "      <td>1002</td>\n",
       "      <td>Jersey Basic</td>\n",
       "      <td>Jersey top with narrow shoulder straps.</td>\n",
       "    </tr>\n",
       "  </tbody>\n",
       "</table>\n",
       "</div>"
      ],
      "text/plain": [
       "            product_code      prod_name  product_type_no product_type_name  \\\n",
       "article_id                                                                   \n",
       "108775015         108775      Strap top              253          Vest top   \n",
       "108775044         108775      Strap top              253          Vest top   \n",
       "108775051         108775  Strap top (1)              253          Vest top   \n",
       "\n",
       "            product_group_name  graphical_appearance_no  \\\n",
       "article_id                                                \n",
       "108775015   Garment Upper body                  1010016   \n",
       "108775044   Garment Upper body                  1010016   \n",
       "108775051   Garment Upper body                  1010017   \n",
       "\n",
       "           graphical_appearance_name  colour_group_code colour_group_name  \\\n",
       "article_id                                                                  \n",
       "108775015                      Solid                  9             Black   \n",
       "108775044                      Solid                 10             White   \n",
       "108775051                     Stripe                 11         Off White   \n",
       "\n",
       "            perceived_colour_value_id perceived_colour_value_name  \\\n",
       "article_id                                                          \n",
       "108775015                           4                        Dark   \n",
       "108775044                           3                       Light   \n",
       "108775051                           1                 Dusty Light   \n",
       "\n",
       "            perceived_colour_master_id perceived_colour_master_name  \\\n",
       "article_id                                                            \n",
       "108775015                            5                        Black   \n",
       "108775044                            9                        White   \n",
       "108775051                            9                        White   \n",
       "\n",
       "            department_no department_name index_code  index_name  \\\n",
       "article_id                                                         \n",
       "108775015            1676    Jersey Basic          A  Ladieswear   \n",
       "108775044            1676    Jersey Basic          A  Ladieswear   \n",
       "108775051            1676    Jersey Basic          A  Ladieswear   \n",
       "\n",
       "            index_group_no index_group_name  section_no  \\\n",
       "article_id                                                \n",
       "108775015                1       Ladieswear          16   \n",
       "108775044                1       Ladieswear          16   \n",
       "108775051                1       Ladieswear          16   \n",
       "\n",
       "                      section_name  garment_group_no garment_group_name  \\\n",
       "article_id                                                                \n",
       "108775015   Womens Everyday Basics              1002       Jersey Basic   \n",
       "108775044   Womens Everyday Basics              1002       Jersey Basic   \n",
       "108775051   Womens Everyday Basics              1002       Jersey Basic   \n",
       "\n",
       "                                        detail_desc  \n",
       "article_id                                           \n",
       "108775015   Jersey top with narrow shoulder straps.  \n",
       "108775044   Jersey top with narrow shoulder straps.  \n",
       "108775051   Jersey top with narrow shoulder straps.  "
      ]
     },
     "execution_count": 16,
     "metadata": {},
     "output_type": "execute_result"
    }
   ],
   "source": [
    "# Load in the meta data for use in returning the details about the recommended articles \n",
    "meta_articles = pd.read_csv('Data/articles.csv.zip', index_col='article_id')\n",
    "meta_articles.head(3)"
   ]
  },
  {
   "cell_type": "code",
   "execution_count": 17,
   "metadata": {
    "ExecuteTime": {
     "end_time": "2022-06-01T05:47:52.663383Z",
     "start_time": "2022-06-01T05:47:52.583214Z"
    }
   },
   "outputs": [
    {
     "name": "stdout",
     "output_type": "stream",
     "text": [
      "<class 'pandas.core.frame.DataFrame'>\n",
      "Int64Index: 105542 entries, 108775015 to 959461001\n",
      "Data columns (total 24 columns):\n",
      " #   Column                        Non-Null Count   Dtype \n",
      "---  ------                        --------------   ----- \n",
      " 0   product_code                  105542 non-null  int64 \n",
      " 1   prod_name                     105542 non-null  object\n",
      " 2   product_type_no               105542 non-null  int64 \n",
      " 3   product_type_name             105542 non-null  object\n",
      " 4   product_group_name            105542 non-null  object\n",
      " 5   graphical_appearance_no       105542 non-null  int64 \n",
      " 6   graphical_appearance_name     105542 non-null  object\n",
      " 7   colour_group_code             105542 non-null  int64 \n",
      " 8   colour_group_name             105542 non-null  object\n",
      " 9   perceived_colour_value_id     105542 non-null  int64 \n",
      " 10  perceived_colour_value_name   105542 non-null  object\n",
      " 11  perceived_colour_master_id    105542 non-null  int64 \n",
      " 12  perceived_colour_master_name  105542 non-null  object\n",
      " 13  department_no                 105542 non-null  int64 \n",
      " 14  department_name               105542 non-null  object\n",
      " 15  index_code                    105542 non-null  object\n",
      " 16  index_name                    105542 non-null  object\n",
      " 17  index_group_no                105542 non-null  int64 \n",
      " 18  index_group_name              105542 non-null  object\n",
      " 19  section_no                    105542 non-null  int64 \n",
      " 20  section_name                  105542 non-null  object\n",
      " 21  garment_group_no              105542 non-null  int64 \n",
      " 22  garment_group_name            105542 non-null  object\n",
      " 23  detail_desc                   105126 non-null  object\n",
      "dtypes: int64(10), object(14)\n",
      "memory usage: 20.1+ MB\n"
     ]
    }
   ],
   "source": [
    "# sanity check\n",
    "meta_articles.info()"
   ]
  },
  {
   "cell_type": "code",
   "execution_count": 18,
   "metadata": {
    "ExecuteTime": {
     "end_time": "2022-06-01T05:47:52.738636Z",
     "start_time": "2022-06-01T05:47:52.725340Z"
    }
   },
   "outputs": [
    {
     "data": {
      "text/html": [
       "<div>\n",
       "<style scoped>\n",
       "    .dataframe tbody tr th:only-of-type {\n",
       "        vertical-align: middle;\n",
       "    }\n",
       "\n",
       "    .dataframe tbody tr th {\n",
       "        vertical-align: top;\n",
       "    }\n",
       "\n",
       "    .dataframe thead th {\n",
       "        text-align: right;\n",
       "    }\n",
       "</style>\n",
       "<table border=\"1\" class=\"dataframe\">\n",
       "  <thead>\n",
       "    <tr style=\"text-align: right;\">\n",
       "      <th></th>\n",
       "      <th>InvoiceDate</th>\n",
       "      <th>customer_id</th>\n",
       "      <th>article_id</th>\n",
       "      <th>price</th>\n",
       "      <th>sales_channel_id</th>\n",
       "      <th>t_dat</th>\n",
       "      <th>date</th>\n",
       "      <th>bought</th>\n",
       "    </tr>\n",
       "  </thead>\n",
       "  <tbody>\n",
       "    <tr>\n",
       "      <th>0</th>\n",
       "      <td>2020-09-14</td>\n",
       "      <td>0008968c0d451dbc5a9968da03196fe20051965edde741...</td>\n",
       "      <td>893059004</td>\n",
       "      <td>0.035576</td>\n",
       "      <td>2</td>\n",
       "      <td>2020-09-14</td>\n",
       "      <td>2020-09-14</td>\n",
       "      <td>1</td>\n",
       "    </tr>\n",
       "    <tr>\n",
       "      <th>1</th>\n",
       "      <td>2020-09-03</td>\n",
       "      <td>002611889659ab1051fc3e4e870f2b603c3aaa902ffe6a...</td>\n",
       "      <td>902802002</td>\n",
       "      <td>0.033881</td>\n",
       "      <td>2</td>\n",
       "      <td>2020-09-03</td>\n",
       "      <td>2020-09-03</td>\n",
       "      <td>1</td>\n",
       "    </tr>\n",
       "    <tr>\n",
       "      <th>2</th>\n",
       "      <td>2020-09-03</td>\n",
       "      <td>002611889659ab1051fc3e4e870f2b603c3aaa902ffe6a...</td>\n",
       "      <td>805000007</td>\n",
       "      <td>0.050831</td>\n",
       "      <td>2</td>\n",
       "      <td>2020-09-03</td>\n",
       "      <td>2020-09-03</td>\n",
       "      <td>1</td>\n",
       "    </tr>\n",
       "    <tr>\n",
       "      <th>3</th>\n",
       "      <td>2020-09-03</td>\n",
       "      <td>002611889659ab1051fc3e4e870f2b603c3aaa902ffe6a...</td>\n",
       "      <td>918292001</td>\n",
       "      <td>0.042356</td>\n",
       "      <td>2</td>\n",
       "      <td>2020-09-03</td>\n",
       "      <td>2020-09-03</td>\n",
       "      <td>1</td>\n",
       "    </tr>\n",
       "    <tr>\n",
       "      <th>4</th>\n",
       "      <td>2020-09-03</td>\n",
       "      <td>002611889659ab1051fc3e4e870f2b603c3aaa902ffe6a...</td>\n",
       "      <td>805000001</td>\n",
       "      <td>0.050831</td>\n",
       "      <td>2</td>\n",
       "      <td>2020-09-03</td>\n",
       "      <td>2020-09-03</td>\n",
       "      <td>1</td>\n",
       "    </tr>\n",
       "  </tbody>\n",
       "</table>\n",
       "</div>"
      ],
      "text/plain": [
       "  InvoiceDate                                        customer_id  article_id  \\\n",
       "0  2020-09-14  0008968c0d451dbc5a9968da03196fe20051965edde741...   893059004   \n",
       "1  2020-09-03  002611889659ab1051fc3e4e870f2b603c3aaa902ffe6a...   902802002   \n",
       "2  2020-09-03  002611889659ab1051fc3e4e870f2b603c3aaa902ffe6a...   805000007   \n",
       "3  2020-09-03  002611889659ab1051fc3e4e870f2b603c3aaa902ffe6a...   918292001   \n",
       "4  2020-09-03  002611889659ab1051fc3e4e870f2b603c3aaa902ffe6a...   805000001   \n",
       "\n",
       "      price  sales_channel_id       t_dat        date  bought  \n",
       "0  0.035576                 2  2020-09-14  2020-09-14       1  \n",
       "1  0.033881                 2  2020-09-03  2020-09-03       1  \n",
       "2  0.050831                 2  2020-09-03  2020-09-03       1  \n",
       "3  0.042356                 2  2020-09-03  2020-09-03       1  \n",
       "4  0.050831                 2  2020-09-03  2020-09-03       1  "
      ]
     },
     "execution_count": 18,
     "metadata": {},
     "output_type": "execute_result"
    }
   ],
   "source": [
    "transactions.head()"
   ]
  },
  {
   "cell_type": "code",
   "execution_count": 19,
   "metadata": {
    "ExecuteTime": {
     "end_time": "2022-06-01T05:47:52.882846Z",
     "start_time": "2022-06-01T05:47:52.806308Z"
    }
   },
   "outputs": [
    {
     "data": {
      "text/html": [
       "<div>\n",
       "<style scoped>\n",
       "    .dataframe tbody tr th:only-of-type {\n",
       "        vertical-align: middle;\n",
       "    }\n",
       "\n",
       "    .dataframe tbody tr th {\n",
       "        vertical-align: top;\n",
       "    }\n",
       "\n",
       "    .dataframe thead th {\n",
       "        text-align: right;\n",
       "    }\n",
       "</style>\n",
       "<table border=\"1\" class=\"dataframe\">\n",
       "  <thead>\n",
       "    <tr style=\"text-align: right;\">\n",
       "      <th></th>\n",
       "      <th>article_id</th>\n",
       "    </tr>\n",
       "    <tr>\n",
       "      <th>customer_id</th>\n",
       "      <th></th>\n",
       "    </tr>\n",
       "  </thead>\n",
       "  <tbody>\n",
       "    <tr>\n",
       "      <th>0008968c0d451dbc5a9968da03196fe20051965edde7413775c4eb3be9abe9c2</th>\n",
       "      <td>893059004</td>\n",
       "    </tr>\n",
       "    <tr>\n",
       "      <th>002611889659ab1051fc3e4e870f2b603c3aaa902ffe6ab59e83461c76c879dc</th>\n",
       "      <td>902802002</td>\n",
       "    </tr>\n",
       "    <tr>\n",
       "      <th>002611889659ab1051fc3e4e870f2b603c3aaa902ffe6ab59e83461c76c879dc</th>\n",
       "      <td>805000007</td>\n",
       "    </tr>\n",
       "    <tr>\n",
       "      <th>002611889659ab1051fc3e4e870f2b603c3aaa902ffe6ab59e83461c76c879dc</th>\n",
       "      <td>918292001</td>\n",
       "    </tr>\n",
       "    <tr>\n",
       "      <th>002611889659ab1051fc3e4e870f2b603c3aaa902ffe6ab59e83461c76c879dc</th>\n",
       "      <td>805000001</td>\n",
       "    </tr>\n",
       "  </tbody>\n",
       "</table>\n",
       "</div>"
      ],
      "text/plain": [
       "                                                    article_id\n",
       "customer_id                                                   \n",
       "0008968c0d451dbc5a9968da03196fe20051965edde7413...   893059004\n",
       "002611889659ab1051fc3e4e870f2b603c3aaa902ffe6ab...   902802002\n",
       "002611889659ab1051fc3e4e870f2b603c3aaa902ffe6ab...   805000007\n",
       "002611889659ab1051fc3e4e870f2b603c3aaa902ffe6ab...   918292001\n",
       "002611889659ab1051fc3e4e870f2b603c3aaa902ffe6ab...   805000001"
      ]
     },
     "execution_count": 19,
     "metadata": {},
     "output_type": "execute_result"
    }
   ],
   "source": [
    "# The transactions data is subset to just show customers and the articles they have bought\n",
    "df_customer = transactions.set_index('customer_id')\n",
    "df_customer.drop(columns=['InvoiceDate', 'price', 'sales_channel_id', 't_dat', 'date', 'bought'], inplace=True)\n",
    "df_customer.head()"
   ]
  },
  {
   "cell_type": "code",
   "execution_count": 20,
   "metadata": {
    "ExecuteTime": {
     "end_time": "2022-06-01T05:47:54.765860Z",
     "start_time": "2022-06-01T05:47:52.952505Z"
    }
   },
   "outputs": [],
   "source": [
    "# Save the `df_customer` as a new csv\n",
    "\n",
    "df_customer.to_csv('Data/df_customer.csv')"
   ]
  },
  {
   "cell_type": "code",
   "execution_count": 22,
   "metadata": {
    "ExecuteTime": {
     "end_time": "2022-06-01T05:48:36.838545Z",
     "start_time": "2022-06-01T05:48:36.822952Z"
    }
   },
   "outputs": [
    {
     "data": {
      "text/plain": [
       "Index(['0008968c0d451dbc5a9968da03196fe20051965edde7413775c4eb3be9abe9c2',\n",
       "       '002611889659ab1051fc3e4e870f2b603c3aaa902ffe6ab59e83461c76c879dc',\n",
       "       '002611889659ab1051fc3e4e870f2b603c3aaa902ffe6ab59e83461c76c879dc',\n",
       "       '002611889659ab1051fc3e4e870f2b603c3aaa902ffe6ab59e83461c76c879dc',\n",
       "       '002611889659ab1051fc3e4e870f2b603c3aaa902ffe6ab59e83461c76c879dc',\n",
       "       '002611889659ab1051fc3e4e870f2b603c3aaa902ffe6ab59e83461c76c879dc',\n",
       "       '002611889659ab1051fc3e4e870f2b603c3aaa902ffe6ab59e83461c76c879dc',\n",
       "       '0035b1a78ff4c2ae30b91308700c09d257bc8f830acc53574829f391f3e611d4',\n",
       "       '0035b1a78ff4c2ae30b91308700c09d257bc8f830acc53574829f391f3e611d4',\n",
       "       '0035b1a78ff4c2ae30b91308700c09d257bc8f830acc53574829f391f3e611d4',\n",
       "       ...\n",
       "       'ff732b98019465f078144bae647d7d9765d76e3431ef926a7c5064783f7027a6',\n",
       "       'ff732b98019465f078144bae647d7d9765d76e3431ef926a7c5064783f7027a6',\n",
       "       'ff732b98019465f078144bae647d7d9765d76e3431ef926a7c5064783f7027a6',\n",
       "       'ffb72741f3bc3d98855703b55d34e05bc7893a5d6a99a3758cc7fa0cf65ba441',\n",
       "       'ffb72741f3bc3d98855703b55d34e05bc7893a5d6a99a3758cc7fa0cf65ba441',\n",
       "       'ffb72741f3bc3d98855703b55d34e05bc7893a5d6a99a3758cc7fa0cf65ba441',\n",
       "       'ffb72741f3bc3d98855703b55d34e05bc7893a5d6a99a3758cc7fa0cf65ba441',\n",
       "       'ffb72741f3bc3d98855703b55d34e05bc7893a5d6a99a3758cc7fa0cf65ba441',\n",
       "       'ffc92c3f7b0b302f393c2968b290f6e5c5b5510d1cf1dfd2f8586a5ce3ce8bf4',\n",
       "       'ffc92c3f7b0b302f393c2968b290f6e5c5b5510d1cf1dfd2f8586a5ce3ce8bf4'],\n",
       "      dtype='object', name='customer_id', length=671674)"
      ]
     },
     "execution_count": 22,
     "metadata": {},
     "output_type": "execute_result"
    }
   ],
   "source": [
    "df_customer.index"
   ]
  },
  {
   "cell_type": "code",
   "execution_count": 23,
   "metadata": {
    "ExecuteTime": {
     "end_time": "2022-06-01T05:48:46.660870Z",
     "start_time": "2022-06-01T05:48:42.631068Z"
    }
   },
   "outputs": [
    {
     "name": "stdout",
     "output_type": "stream",
     "text": [
      "CustomerID: 002611889659ab1051fc3e4e870f2b603c3aaa902ffe6ab59e83461c76c879dc\n",
      "How many recommendations? 5\n"
     ]
    }
   ],
   "source": [
    "# Dual input for unique customer ID and how many recommendations you would like\n",
    "customer = input('CustomerID: ')\n",
    "n_recs = int(input('How many recommendations? '))"
   ]
  },
  {
   "cell_type": "code",
   "execution_count": 24,
   "metadata": {
    "ExecuteTime": {
     "end_time": "2022-06-01T05:48:51.764854Z",
     "start_time": "2022-06-01T05:48:51.694846Z"
    }
   },
   "outputs": [],
   "source": [
    "# Creating a list of the eBooks that said reviewer has already rated\n",
    "have_bought = list(df_customer.loc[customer, 'article_id'])"
   ]
  },
  {
   "cell_type": "code",
   "execution_count": 25,
   "metadata": {
    "ExecuteTime": {
     "end_time": "2022-06-01T05:48:52.843780Z",
     "start_time": "2022-06-01T05:48:52.765156Z"
    }
   },
   "outputs": [
    {
     "data": {
      "text/html": [
       "<div>\n",
       "<style scoped>\n",
       "    .dataframe tbody tr th:only-of-type {\n",
       "        vertical-align: middle;\n",
       "    }\n",
       "\n",
       "    .dataframe tbody tr th {\n",
       "        vertical-align: top;\n",
       "    }\n",
       "\n",
       "    .dataframe thead th {\n",
       "        text-align: right;\n",
       "    }\n",
       "</style>\n",
       "<table border=\"1\" class=\"dataframe\">\n",
       "  <thead>\n",
       "    <tr style=\"text-align: right;\">\n",
       "      <th></th>\n",
       "      <th>article_id</th>\n",
       "      <th>product_code</th>\n",
       "      <th>prod_name</th>\n",
       "      <th>product_type_no</th>\n",
       "      <th>product_type_name</th>\n",
       "      <th>product_group_name</th>\n",
       "      <th>graphical_appearance_no</th>\n",
       "      <th>graphical_appearance_name</th>\n",
       "      <th>colour_group_code</th>\n",
       "      <th>colour_group_name</th>\n",
       "      <th>perceived_colour_value_id</th>\n",
       "      <th>perceived_colour_value_name</th>\n",
       "      <th>perceived_colour_master_id</th>\n",
       "      <th>perceived_colour_master_name</th>\n",
       "      <th>department_no</th>\n",
       "      <th>department_name</th>\n",
       "      <th>index_code</th>\n",
       "      <th>index_name</th>\n",
       "      <th>index_group_no</th>\n",
       "      <th>index_group_name</th>\n",
       "      <th>section_no</th>\n",
       "      <th>section_name</th>\n",
       "      <th>garment_group_no</th>\n",
       "      <th>garment_group_name</th>\n",
       "      <th>detail_desc</th>\n",
       "    </tr>\n",
       "  </thead>\n",
       "  <tbody>\n",
       "    <tr>\n",
       "      <th>0</th>\n",
       "      <td>108775015</td>\n",
       "      <td>108775</td>\n",
       "      <td>Strap top</td>\n",
       "      <td>253</td>\n",
       "      <td>Vest top</td>\n",
       "      <td>Garment Upper body</td>\n",
       "      <td>1010016</td>\n",
       "      <td>Solid</td>\n",
       "      <td>9</td>\n",
       "      <td>Black</td>\n",
       "      <td>4</td>\n",
       "      <td>Dark</td>\n",
       "      <td>5</td>\n",
       "      <td>Black</td>\n",
       "      <td>1676</td>\n",
       "      <td>Jersey Basic</td>\n",
       "      <td>A</td>\n",
       "      <td>Ladieswear</td>\n",
       "      <td>1</td>\n",
       "      <td>Ladieswear</td>\n",
       "      <td>16</td>\n",
       "      <td>Womens Everyday Basics</td>\n",
       "      <td>1002</td>\n",
       "      <td>Jersey Basic</td>\n",
       "      <td>Jersey top with narrow shoulder straps.</td>\n",
       "    </tr>\n",
       "    <tr>\n",
       "      <th>1</th>\n",
       "      <td>108775044</td>\n",
       "      <td>108775</td>\n",
       "      <td>Strap top</td>\n",
       "      <td>253</td>\n",
       "      <td>Vest top</td>\n",
       "      <td>Garment Upper body</td>\n",
       "      <td>1010016</td>\n",
       "      <td>Solid</td>\n",
       "      <td>10</td>\n",
       "      <td>White</td>\n",
       "      <td>3</td>\n",
       "      <td>Light</td>\n",
       "      <td>9</td>\n",
       "      <td>White</td>\n",
       "      <td>1676</td>\n",
       "      <td>Jersey Basic</td>\n",
       "      <td>A</td>\n",
       "      <td>Ladieswear</td>\n",
       "      <td>1</td>\n",
       "      <td>Ladieswear</td>\n",
       "      <td>16</td>\n",
       "      <td>Womens Everyday Basics</td>\n",
       "      <td>1002</td>\n",
       "      <td>Jersey Basic</td>\n",
       "      <td>Jersey top with narrow shoulder straps.</td>\n",
       "    </tr>\n",
       "    <tr>\n",
       "      <th>2</th>\n",
       "      <td>108775051</td>\n",
       "      <td>108775</td>\n",
       "      <td>Strap top (1)</td>\n",
       "      <td>253</td>\n",
       "      <td>Vest top</td>\n",
       "      <td>Garment Upper body</td>\n",
       "      <td>1010017</td>\n",
       "      <td>Stripe</td>\n",
       "      <td>11</td>\n",
       "      <td>Off White</td>\n",
       "      <td>1</td>\n",
       "      <td>Dusty Light</td>\n",
       "      <td>9</td>\n",
       "      <td>White</td>\n",
       "      <td>1676</td>\n",
       "      <td>Jersey Basic</td>\n",
       "      <td>A</td>\n",
       "      <td>Ladieswear</td>\n",
       "      <td>1</td>\n",
       "      <td>Ladieswear</td>\n",
       "      <td>16</td>\n",
       "      <td>Womens Everyday Basics</td>\n",
       "      <td>1002</td>\n",
       "      <td>Jersey Basic</td>\n",
       "      <td>Jersey top with narrow shoulder straps.</td>\n",
       "    </tr>\n",
       "  </tbody>\n",
       "</table>\n",
       "</div>"
      ],
      "text/plain": [
       "   article_id  product_code      prod_name  product_type_no product_type_name  \\\n",
       "0   108775015        108775      Strap top              253          Vest top   \n",
       "1   108775044        108775      Strap top              253          Vest top   \n",
       "2   108775051        108775  Strap top (1)              253          Vest top   \n",
       "\n",
       "   product_group_name  graphical_appearance_no graphical_appearance_name  \\\n",
       "0  Garment Upper body                  1010016                     Solid   \n",
       "1  Garment Upper body                  1010016                     Solid   \n",
       "2  Garment Upper body                  1010017                    Stripe   \n",
       "\n",
       "   colour_group_code colour_group_name  perceived_colour_value_id  \\\n",
       "0                  9             Black                          4   \n",
       "1                 10             White                          3   \n",
       "2                 11         Off White                          1   \n",
       "\n",
       "  perceived_colour_value_name  perceived_colour_master_id  \\\n",
       "0                        Dark                           5   \n",
       "1                       Light                           9   \n",
       "2                 Dusty Light                           9   \n",
       "\n",
       "  perceived_colour_master_name  department_no department_name index_code  \\\n",
       "0                        Black           1676    Jersey Basic          A   \n",
       "1                        White           1676    Jersey Basic          A   \n",
       "2                        White           1676    Jersey Basic          A   \n",
       "\n",
       "   index_name  index_group_no index_group_name  section_no  \\\n",
       "0  Ladieswear               1       Ladieswear          16   \n",
       "1  Ladieswear               1       Ladieswear          16   \n",
       "2  Ladieswear               1       Ladieswear          16   \n",
       "\n",
       "             section_name  garment_group_no garment_group_name  \\\n",
       "0  Womens Everyday Basics              1002       Jersey Basic   \n",
       "1  Womens Everyday Basics              1002       Jersey Basic   \n",
       "2  Womens Everyday Basics              1002       Jersey Basic   \n",
       "\n",
       "                               detail_desc  \n",
       "0  Jersey top with narrow shoulder straps.  \n",
       "1  Jersey top with narrow shoulder straps.  \n",
       "2  Jersey top with narrow shoulder straps.  "
      ]
     },
     "execution_count": 25,
     "metadata": {},
     "output_type": "execute_result"
    }
   ],
   "source": [
    "# Creating new dataframe from meta data to subset based on already bought articles\n",
    "not_bought = meta_articles.copy()\n",
    "# Dropping indexes (article_id) that correspond to already bought articles\n",
    "not_bought.drop(have_bought, inplace=True)\n",
    "# Reset index to pull out article_id as a seperate column\n",
    "not_bought.reset_index(inplace=True)\n",
    "not_bought.head(3)"
   ]
  },
  {
   "cell_type": "code",
   "execution_count": 26,
   "metadata": {
    "ExecuteTime": {
     "end_time": "2022-06-01T05:49:04.149104Z",
     "start_time": "2022-06-01T05:49:03.470777Z"
    }
   },
   "outputs": [
    {
     "data": {
      "text/html": [
       "<div>\n",
       "<style scoped>\n",
       "    .dataframe tbody tr th:only-of-type {\n",
       "        vertical-align: middle;\n",
       "    }\n",
       "\n",
       "    .dataframe tbody tr th {\n",
       "        vertical-align: top;\n",
       "    }\n",
       "\n",
       "    .dataframe thead th {\n",
       "        text-align: right;\n",
       "    }\n",
       "</style>\n",
       "<table border=\"1\" class=\"dataframe\">\n",
       "  <thead>\n",
       "    <tr style=\"text-align: right;\">\n",
       "      <th></th>\n",
       "      <th>article_id</th>\n",
       "      <th>product_code</th>\n",
       "      <th>prod_name</th>\n",
       "      <th>product_type_no</th>\n",
       "      <th>product_type_name</th>\n",
       "      <th>product_group_name</th>\n",
       "      <th>graphical_appearance_no</th>\n",
       "      <th>graphical_appearance_name</th>\n",
       "      <th>colour_group_code</th>\n",
       "      <th>colour_group_name</th>\n",
       "      <th>perceived_colour_value_id</th>\n",
       "      <th>perceived_colour_value_name</th>\n",
       "      <th>perceived_colour_master_id</th>\n",
       "      <th>perceived_colour_master_name</th>\n",
       "      <th>department_no</th>\n",
       "      <th>department_name</th>\n",
       "      <th>index_code</th>\n",
       "      <th>index_name</th>\n",
       "      <th>index_group_no</th>\n",
       "      <th>index_group_name</th>\n",
       "      <th>section_no</th>\n",
       "      <th>section_name</th>\n",
       "      <th>garment_group_no</th>\n",
       "      <th>garment_group_name</th>\n",
       "      <th>detail_desc</th>\n",
       "      <th>est_purchase</th>\n",
       "    </tr>\n",
       "  </thead>\n",
       "  <tbody>\n",
       "    <tr>\n",
       "      <th>0</th>\n",
       "      <td>108775015</td>\n",
       "      <td>108775</td>\n",
       "      <td>Strap top</td>\n",
       "      <td>253</td>\n",
       "      <td>Vest top</td>\n",
       "      <td>Garment Upper body</td>\n",
       "      <td>1010016</td>\n",
       "      <td>Solid</td>\n",
       "      <td>9</td>\n",
       "      <td>Black</td>\n",
       "      <td>4</td>\n",
       "      <td>Dark</td>\n",
       "      <td>5</td>\n",
       "      <td>Black</td>\n",
       "      <td>1676</td>\n",
       "      <td>Jersey Basic</td>\n",
       "      <td>A</td>\n",
       "      <td>Ladieswear</td>\n",
       "      <td>1</td>\n",
       "      <td>Ladieswear</td>\n",
       "      <td>16</td>\n",
       "      <td>Womens Everyday Basics</td>\n",
       "      <td>1002</td>\n",
       "      <td>Jersey Basic</td>\n",
       "      <td>Jersey top with narrow shoulder straps.</td>\n",
       "      <td>1.0</td>\n",
       "    </tr>\n",
       "    <tr>\n",
       "      <th>68383</th>\n",
       "      <td>754138003</td>\n",
       "      <td>754138</td>\n",
       "      <td>Casablanca blazer</td>\n",
       "      <td>264</td>\n",
       "      <td>Blazer</td>\n",
       "      <td>Garment Upper body</td>\n",
       "      <td>1010026</td>\n",
       "      <td>Other structure</td>\n",
       "      <td>9</td>\n",
       "      <td>Black</td>\n",
       "      <td>4</td>\n",
       "      <td>Dark</td>\n",
       "      <td>5</td>\n",
       "      <td>Black</td>\n",
       "      <td>8757</td>\n",
       "      <td>Young Boy Shirt</td>\n",
       "      <td>I</td>\n",
       "      <td>Children Sizes 134-170</td>\n",
       "      <td>4</td>\n",
       "      <td>Baby/Children</td>\n",
       "      <td>47</td>\n",
       "      <td>Young Boy</td>\n",
       "      <td>1011</td>\n",
       "      <td>Shirts</td>\n",
       "      <td>Single-breasted jacket in a textured weave wit...</td>\n",
       "      <td>1.0</td>\n",
       "    </tr>\n",
       "    <tr>\n",
       "      <th>68381</th>\n",
       "      <td>754136002</td>\n",
       "      <td>754136</td>\n",
       "      <td>DIV Jersey blazer (1)</td>\n",
       "      <td>264</td>\n",
       "      <td>Blazer</td>\n",
       "      <td>Garment Upper body</td>\n",
       "      <td>1010016</td>\n",
       "      <td>Solid</td>\n",
       "      <td>53</td>\n",
       "      <td>Dark Pink</td>\n",
       "      <td>5</td>\n",
       "      <td>Bright</td>\n",
       "      <td>4</td>\n",
       "      <td>Pink</td>\n",
       "      <td>1652</td>\n",
       "      <td>Divided+</td>\n",
       "      <td>D</td>\n",
       "      <td>Divided</td>\n",
       "      <td>2</td>\n",
       "      <td>Divided</td>\n",
       "      <td>50</td>\n",
       "      <td>Divided Projects</td>\n",
       "      <td>1001</td>\n",
       "      <td>Unknown</td>\n",
       "      <td>Straight-cut jacket in soft jersey with long n...</td>\n",
       "      <td>1.0</td>\n",
       "    </tr>\n",
       "    <tr>\n",
       "      <th>68380</th>\n",
       "      <td>754136001</td>\n",
       "      <td>754136</td>\n",
       "      <td>DIV Jersey blazer (1)</td>\n",
       "      <td>264</td>\n",
       "      <td>Blazer</td>\n",
       "      <td>Garment Upper body</td>\n",
       "      <td>1010016</td>\n",
       "      <td>Solid</td>\n",
       "      <td>22</td>\n",
       "      <td>Yellow</td>\n",
       "      <td>7</td>\n",
       "      <td>Medium</td>\n",
       "      <td>8</td>\n",
       "      <td>Yellow</td>\n",
       "      <td>1652</td>\n",
       "      <td>Divided+</td>\n",
       "      <td>D</td>\n",
       "      <td>Divided</td>\n",
       "      <td>2</td>\n",
       "      <td>Divided</td>\n",
       "      <td>50</td>\n",
       "      <td>Divided Projects</td>\n",
       "      <td>1001</td>\n",
       "      <td>Unknown</td>\n",
       "      <td>Straight-cut jacket in soft jersey with long n...</td>\n",
       "      <td>1.0</td>\n",
       "    </tr>\n",
       "    <tr>\n",
       "      <th>68379</th>\n",
       "      <td>754135001</td>\n",
       "      <td>754135</td>\n",
       "      <td>Denim Pauls LS Bandcollar</td>\n",
       "      <td>259</td>\n",
       "      <td>Shirt</td>\n",
       "      <td>Garment Upper body</td>\n",
       "      <td>1010023</td>\n",
       "      <td>Denim</td>\n",
       "      <td>71</td>\n",
       "      <td>Light Blue</td>\n",
       "      <td>3</td>\n",
       "      <td>Light</td>\n",
       "      <td>2</td>\n",
       "      <td>Blue</td>\n",
       "      <td>5767</td>\n",
       "      <td>Shirt</td>\n",
       "      <td>F</td>\n",
       "      <td>Menswear</td>\n",
       "      <td>3</td>\n",
       "      <td>Menswear</td>\n",
       "      <td>21</td>\n",
       "      <td>Contemporary Casual</td>\n",
       "      <td>1011</td>\n",
       "      <td>Shirts</td>\n",
       "      <td>Long-sleeved shirt in soft, washed cotton deni...</td>\n",
       "      <td>1.0</td>\n",
       "    </tr>\n",
       "  </tbody>\n",
       "</table>\n",
       "</div>"
      ],
      "text/plain": [
       "       article_id  product_code                  prod_name  product_type_no  \\\n",
       "0       108775015        108775                  Strap top              253   \n",
       "68383   754138003        754138          Casablanca blazer              264   \n",
       "68381   754136002        754136      DIV Jersey blazer (1)              264   \n",
       "68380   754136001        754136      DIV Jersey blazer (1)              264   \n",
       "68379   754135001        754135  Denim Pauls LS Bandcollar              259   \n",
       "\n",
       "      product_type_name  product_group_name  graphical_appearance_no  \\\n",
       "0              Vest top  Garment Upper body                  1010016   \n",
       "68383            Blazer  Garment Upper body                  1010026   \n",
       "68381            Blazer  Garment Upper body                  1010016   \n",
       "68380            Blazer  Garment Upper body                  1010016   \n",
       "68379             Shirt  Garment Upper body                  1010023   \n",
       "\n",
       "      graphical_appearance_name  colour_group_code colour_group_name  \\\n",
       "0                         Solid                  9             Black   \n",
       "68383           Other structure                  9             Black   \n",
       "68381                     Solid                 53         Dark Pink   \n",
       "68380                     Solid                 22            Yellow   \n",
       "68379                     Denim                 71        Light Blue   \n",
       "\n",
       "       perceived_colour_value_id perceived_colour_value_name  \\\n",
       "0                              4                        Dark   \n",
       "68383                          4                        Dark   \n",
       "68381                          5                      Bright   \n",
       "68380                          7                      Medium   \n",
       "68379                          3                       Light   \n",
       "\n",
       "       perceived_colour_master_id perceived_colour_master_name  department_no  \\\n",
       "0                               5                        Black           1676   \n",
       "68383                           5                        Black           8757   \n",
       "68381                           4                         Pink           1652   \n",
       "68380                           8                       Yellow           1652   \n",
       "68379                           2                         Blue           5767   \n",
       "\n",
       "       department_name index_code              index_name  index_group_no  \\\n",
       "0         Jersey Basic          A              Ladieswear               1   \n",
       "68383  Young Boy Shirt          I  Children Sizes 134-170               4   \n",
       "68381         Divided+          D                 Divided               2   \n",
       "68380         Divided+          D                 Divided               2   \n",
       "68379            Shirt          F                Menswear               3   \n",
       "\n",
       "      index_group_name  section_no            section_name  garment_group_no  \\\n",
       "0           Ladieswear          16  Womens Everyday Basics              1002   \n",
       "68383    Baby/Children          47               Young Boy              1011   \n",
       "68381          Divided          50        Divided Projects              1001   \n",
       "68380          Divided          50        Divided Projects              1001   \n",
       "68379         Menswear          21     Contemporary Casual              1011   \n",
       "\n",
       "      garment_group_name                                        detail_desc  \\\n",
       "0           Jersey Basic            Jersey top with narrow shoulder straps.   \n",
       "68383             Shirts  Single-breasted jacket in a textured weave wit...   \n",
       "68381            Unknown  Straight-cut jacket in soft jersey with long n...   \n",
       "68380            Unknown  Straight-cut jacket in soft jersey with long n...   \n",
       "68379             Shirts  Long-sleeved shirt in soft, washed cotton deni...   \n",
       "\n",
       "       est_purchase  \n",
       "0               1.0  \n",
       "68383           1.0  \n",
       "68381           1.0  \n",
       "68380           1.0  \n",
       "68379           1.0  "
      ]
     },
     "execution_count": 26,
     "metadata": {},
     "output_type": "execute_result"
    }
   ],
   "source": [
    "# Obtain rating predictions based on model.predict, passing in user input. \n",
    "# Using .apply with lamdba function to iterate through\n",
    "not_bought['est_purchase'] = not_bought['article_id'].apply(lambda x: final_model.predict(customer, x).est)\n",
    "# Sort dataframe based on newly created est_purchase problem in order to return top estimated ratings (purcahse in this case)\n",
    "not_bought.sort_values(by='est_purchase', ascending=False, inplace=True)\n",
    "not_bought.head()"
   ]
  },
  {
   "cell_type": "code",
   "execution_count": 27,
   "metadata": {
    "ExecuteTime": {
     "end_time": "2022-06-01T05:50:26.487242Z",
     "start_time": "2022-06-01T05:50:26.482630Z"
    }
   },
   "outputs": [
    {
     "data": {
      "text/plain": [
       "105531    0.930545\n",
       "43448     0.929697\n",
       "23664     0.928271\n",
       "90113     0.927599\n",
       "93947     0.912918\n",
       "Name: est_purchase, dtype: float64"
      ]
     },
     "execution_count": 27,
     "metadata": {},
     "output_type": "execute_result"
    }
   ],
   "source": [
    "not_bought['est_purchase'].tail()"
   ]
  },
  {
   "cell_type": "code",
   "execution_count": 28,
   "metadata": {
    "ExecuteTime": {
     "end_time": "2022-06-01T05:55:32.258296Z",
     "start_time": "2022-06-01T05:55:32.254696Z"
    }
   },
   "outputs": [],
   "source": [
    "# Captilizing column names for a more appealing final display\n",
    "not_bought.rename(columns={'prod_name':'Product Name', 'author':'Author',\n",
    "                               'product_type_name':'Product Type Name', 'product_group_name':'Product Group Name',\n",
    "                               'index_group_name':'Index Group Name', 'garment_group_name ':'Garment Group Name'}, inplace=True)"
   ]
  },
  {
   "cell_type": "code",
   "execution_count": 30,
   "metadata": {
    "ExecuteTime": {
     "end_time": "2022-06-01T05:56:18.362150Z",
     "start_time": "2022-06-01T05:56:18.341032Z"
    }
   },
   "outputs": [
    {
     "data": {
      "text/html": [
       "<div>\n",
       "<style scoped>\n",
       "    .dataframe tbody tr th:only-of-type {\n",
       "        vertical-align: middle;\n",
       "    }\n",
       "\n",
       "    .dataframe tbody tr th {\n",
       "        vertical-align: top;\n",
       "    }\n",
       "\n",
       "    .dataframe thead th {\n",
       "        text-align: right;\n",
       "    }\n",
       "</style>\n",
       "<table border=\"1\" class=\"dataframe\">\n",
       "  <thead>\n",
       "    <tr style=\"text-align: right;\">\n",
       "      <th></th>\n",
       "      <th>article_id</th>\n",
       "      <th>product_code</th>\n",
       "      <th>Product Name</th>\n",
       "      <th>product_type_no</th>\n",
       "      <th>Product Type Name</th>\n",
       "      <th>Product Group Name</th>\n",
       "      <th>graphical_appearance_no</th>\n",
       "      <th>graphical_appearance_name</th>\n",
       "      <th>colour_group_code</th>\n",
       "      <th>colour_group_name</th>\n",
       "      <th>perceived_colour_value_id</th>\n",
       "      <th>perceived_colour_value_name</th>\n",
       "      <th>perceived_colour_master_id</th>\n",
       "      <th>perceived_colour_master_name</th>\n",
       "      <th>department_no</th>\n",
       "      <th>department_name</th>\n",
       "      <th>index_code</th>\n",
       "      <th>index_name</th>\n",
       "      <th>index_group_no</th>\n",
       "      <th>Index Group Name</th>\n",
       "      <th>section_no</th>\n",
       "      <th>section_name</th>\n",
       "      <th>garment_group_no</th>\n",
       "      <th>garment_group_name</th>\n",
       "      <th>detail_desc</th>\n",
       "      <th>est_purchase</th>\n",
       "    </tr>\n",
       "  </thead>\n",
       "  <tbody>\n",
       "    <tr>\n",
       "      <th>0</th>\n",
       "      <td>108775015</td>\n",
       "      <td>108775</td>\n",
       "      <td>Strap top</td>\n",
       "      <td>253</td>\n",
       "      <td>Vest top</td>\n",
       "      <td>Garment Upper body</td>\n",
       "      <td>1010016</td>\n",
       "      <td>Solid</td>\n",
       "      <td>9</td>\n",
       "      <td>Black</td>\n",
       "      <td>4</td>\n",
       "      <td>Dark</td>\n",
       "      <td>5</td>\n",
       "      <td>Black</td>\n",
       "      <td>1676</td>\n",
       "      <td>Jersey Basic</td>\n",
       "      <td>A</td>\n",
       "      <td>Ladieswear</td>\n",
       "      <td>1</td>\n",
       "      <td>Ladieswear</td>\n",
       "      <td>16</td>\n",
       "      <td>Womens Everyday Basics</td>\n",
       "      <td>1002</td>\n",
       "      <td>Jersey Basic</td>\n",
       "      <td>Jersey top with narrow shoulder straps.</td>\n",
       "      <td>1.0</td>\n",
       "    </tr>\n",
       "    <tr>\n",
       "      <th>68383</th>\n",
       "      <td>754138003</td>\n",
       "      <td>754138</td>\n",
       "      <td>Casablanca blazer</td>\n",
       "      <td>264</td>\n",
       "      <td>Blazer</td>\n",
       "      <td>Garment Upper body</td>\n",
       "      <td>1010026</td>\n",
       "      <td>Other structure</td>\n",
       "      <td>9</td>\n",
       "      <td>Black</td>\n",
       "      <td>4</td>\n",
       "      <td>Dark</td>\n",
       "      <td>5</td>\n",
       "      <td>Black</td>\n",
       "      <td>8757</td>\n",
       "      <td>Young Boy Shirt</td>\n",
       "      <td>I</td>\n",
       "      <td>Children Sizes 134-170</td>\n",
       "      <td>4</td>\n",
       "      <td>Baby/Children</td>\n",
       "      <td>47</td>\n",
       "      <td>Young Boy</td>\n",
       "      <td>1011</td>\n",
       "      <td>Shirts</td>\n",
       "      <td>Single-breasted jacket in a textured weave wit...</td>\n",
       "      <td>1.0</td>\n",
       "    </tr>\n",
       "    <tr>\n",
       "      <th>68381</th>\n",
       "      <td>754136002</td>\n",
       "      <td>754136</td>\n",
       "      <td>DIV Jersey blazer (1)</td>\n",
       "      <td>264</td>\n",
       "      <td>Blazer</td>\n",
       "      <td>Garment Upper body</td>\n",
       "      <td>1010016</td>\n",
       "      <td>Solid</td>\n",
       "      <td>53</td>\n",
       "      <td>Dark Pink</td>\n",
       "      <td>5</td>\n",
       "      <td>Bright</td>\n",
       "      <td>4</td>\n",
       "      <td>Pink</td>\n",
       "      <td>1652</td>\n",
       "      <td>Divided+</td>\n",
       "      <td>D</td>\n",
       "      <td>Divided</td>\n",
       "      <td>2</td>\n",
       "      <td>Divided</td>\n",
       "      <td>50</td>\n",
       "      <td>Divided Projects</td>\n",
       "      <td>1001</td>\n",
       "      <td>Unknown</td>\n",
       "      <td>Straight-cut jacket in soft jersey with long n...</td>\n",
       "      <td>1.0</td>\n",
       "    </tr>\n",
       "    <tr>\n",
       "      <th>68380</th>\n",
       "      <td>754136001</td>\n",
       "      <td>754136</td>\n",
       "      <td>DIV Jersey blazer (1)</td>\n",
       "      <td>264</td>\n",
       "      <td>Blazer</td>\n",
       "      <td>Garment Upper body</td>\n",
       "      <td>1010016</td>\n",
       "      <td>Solid</td>\n",
       "      <td>22</td>\n",
       "      <td>Yellow</td>\n",
       "      <td>7</td>\n",
       "      <td>Medium</td>\n",
       "      <td>8</td>\n",
       "      <td>Yellow</td>\n",
       "      <td>1652</td>\n",
       "      <td>Divided+</td>\n",
       "      <td>D</td>\n",
       "      <td>Divided</td>\n",
       "      <td>2</td>\n",
       "      <td>Divided</td>\n",
       "      <td>50</td>\n",
       "      <td>Divided Projects</td>\n",
       "      <td>1001</td>\n",
       "      <td>Unknown</td>\n",
       "      <td>Straight-cut jacket in soft jersey with long n...</td>\n",
       "      <td>1.0</td>\n",
       "    </tr>\n",
       "    <tr>\n",
       "      <th>68379</th>\n",
       "      <td>754135001</td>\n",
       "      <td>754135</td>\n",
       "      <td>Denim Pauls LS Bandcollar</td>\n",
       "      <td>259</td>\n",
       "      <td>Shirt</td>\n",
       "      <td>Garment Upper body</td>\n",
       "      <td>1010023</td>\n",
       "      <td>Denim</td>\n",
       "      <td>71</td>\n",
       "      <td>Light Blue</td>\n",
       "      <td>3</td>\n",
       "      <td>Light</td>\n",
       "      <td>2</td>\n",
       "      <td>Blue</td>\n",
       "      <td>5767</td>\n",
       "      <td>Shirt</td>\n",
       "      <td>F</td>\n",
       "      <td>Menswear</td>\n",
       "      <td>3</td>\n",
       "      <td>Menswear</td>\n",
       "      <td>21</td>\n",
       "      <td>Contemporary Casual</td>\n",
       "      <td>1011</td>\n",
       "      <td>Shirts</td>\n",
       "      <td>Long-sleeved shirt in soft, washed cotton deni...</td>\n",
       "      <td>1.0</td>\n",
       "    </tr>\n",
       "  </tbody>\n",
       "</table>\n",
       "</div>"
      ],
      "text/plain": [
       "       article_id  product_code               Product Name  product_type_no  \\\n",
       "0       108775015        108775                  Strap top              253   \n",
       "68383   754138003        754138          Casablanca blazer              264   \n",
       "68381   754136002        754136      DIV Jersey blazer (1)              264   \n",
       "68380   754136001        754136      DIV Jersey blazer (1)              264   \n",
       "68379   754135001        754135  Denim Pauls LS Bandcollar              259   \n",
       "\n",
       "      Product Type Name  Product Group Name  graphical_appearance_no  \\\n",
       "0              Vest top  Garment Upper body                  1010016   \n",
       "68383            Blazer  Garment Upper body                  1010026   \n",
       "68381            Blazer  Garment Upper body                  1010016   \n",
       "68380            Blazer  Garment Upper body                  1010016   \n",
       "68379             Shirt  Garment Upper body                  1010023   \n",
       "\n",
       "      graphical_appearance_name  colour_group_code colour_group_name  \\\n",
       "0                         Solid                  9             Black   \n",
       "68383           Other structure                  9             Black   \n",
       "68381                     Solid                 53         Dark Pink   \n",
       "68380                     Solid                 22            Yellow   \n",
       "68379                     Denim                 71        Light Blue   \n",
       "\n",
       "       perceived_colour_value_id perceived_colour_value_name  \\\n",
       "0                              4                        Dark   \n",
       "68383                          4                        Dark   \n",
       "68381                          5                      Bright   \n",
       "68380                          7                      Medium   \n",
       "68379                          3                       Light   \n",
       "\n",
       "       perceived_colour_master_id perceived_colour_master_name  department_no  \\\n",
       "0                               5                        Black           1676   \n",
       "68383                           5                        Black           8757   \n",
       "68381                           4                         Pink           1652   \n",
       "68380                           8                       Yellow           1652   \n",
       "68379                           2                         Blue           5767   \n",
       "\n",
       "       department_name index_code              index_name  index_group_no  \\\n",
       "0         Jersey Basic          A              Ladieswear               1   \n",
       "68383  Young Boy Shirt          I  Children Sizes 134-170               4   \n",
       "68381         Divided+          D                 Divided               2   \n",
       "68380         Divided+          D                 Divided               2   \n",
       "68379            Shirt          F                Menswear               3   \n",
       "\n",
       "      Index Group Name  section_no            section_name  garment_group_no  \\\n",
       "0           Ladieswear          16  Womens Everyday Basics              1002   \n",
       "68383    Baby/Children          47               Young Boy              1011   \n",
       "68381          Divided          50        Divided Projects              1001   \n",
       "68380          Divided          50        Divided Projects              1001   \n",
       "68379         Menswear          21     Contemporary Casual              1011   \n",
       "\n",
       "      garment_group_name                                        detail_desc  \\\n",
       "0           Jersey Basic            Jersey top with narrow shoulder straps.   \n",
       "68383             Shirts  Single-breasted jacket in a textured weave wit...   \n",
       "68381            Unknown  Straight-cut jacket in soft jersey with long n...   \n",
       "68380            Unknown  Straight-cut jacket in soft jersey with long n...   \n",
       "68379             Shirts  Long-sleeved shirt in soft, washed cotton deni...   \n",
       "\n",
       "       est_purchase  \n",
       "0               1.0  \n",
       "68383           1.0  \n",
       "68381           1.0  \n",
       "68380           1.0  \n",
       "68379           1.0  "
      ]
     },
     "execution_count": 30,
     "metadata": {},
     "output_type": "execute_result"
    }
   ],
   "source": [
    "# Final step is to only return the top n_recs as denoted by input, done using .head(n_recs)\n",
    "not_bought.head(n_recs)"
   ]
  },
  {
   "cell_type": "markdown",
   "metadata": {},
   "source": [
    "## Function"
   ]
  },
  {
   "cell_type": "code",
   "execution_count": 35,
   "metadata": {
    "ExecuteTime": {
     "end_time": "2022-06-01T06:03:18.802519Z",
     "start_time": "2022-06-01T06:03:18.797360Z"
    },
    "collapsed": true
   },
   "outputs": [],
   "source": [
    "def customer_article_recommend():\n",
    "    \n",
    "    user = input('CustomerID: ')\n",
    "    n_recs = int(input('How many recommendations? '))\n",
    "    \n",
    "    have_bought = list(df_customer.loc[customer, 'article_id'])\n",
    "    not_bought = meta_articles.copy()\n",
    "    not_bought.drop(have_bought, inplace=True)\n",
    "    not_bought.reset_index(inplace=True)\n",
    "    not_bought['est_purchase'] = not_bought['article_id'].apply(lambda x: final_model.predict(customer, x).est)\n",
    "    not_bought.sort_values(by='est_purchase', ascending=False, inplace=True)\n",
    "    \n",
    "    not_bought.rename(columns={'prod_name':'Product Name', 'author':'Author',\n",
    "                               'product_type_name':'Product Type Name', 'product_group_name':'Product Group Name',\n",
    "                               'index_group_name':'Index Group Name', 'garment_group_name ':'Garment Group Name'}, inplace=True)\n",
    "    return not_bought.head(n_recs)"
   ]
  },
  {
   "cell_type": "markdown",
   "metadata": {},
   "source": [
    "## Evaluation"
   ]
  },
  {
   "cell_type": "code",
   "execution_count": 32,
   "metadata": {
    "ExecuteTime": {
     "end_time": "2022-06-01T06:00:14.532702Z",
     "start_time": "2022-06-01T06:00:14.529806Z"
    }
   },
   "outputs": [],
   "source": [
    "pd.set_option('display.max_colwidth', None)"
   ]
  },
  {
   "cell_type": "code",
   "execution_count": 36,
   "metadata": {
    "ExecuteTime": {
     "end_time": "2022-06-01T06:03:26.406768Z",
     "start_time": "2022-06-01T06:03:22.885512Z"
    }
   },
   "outputs": [
    {
     "name": "stdout",
     "output_type": "stream",
     "text": [
      "CustomerID: 002611889659ab1051fc3e4e870f2b603c3aaa902ffe6ab59e83461c76c879dc\n",
      "How many recommendations? 3\n"
     ]
    },
    {
     "data": {
      "text/html": [
       "<div>\n",
       "<style scoped>\n",
       "    .dataframe tbody tr th:only-of-type {\n",
       "        vertical-align: middle;\n",
       "    }\n",
       "\n",
       "    .dataframe tbody tr th {\n",
       "        vertical-align: top;\n",
       "    }\n",
       "\n",
       "    .dataframe thead th {\n",
       "        text-align: right;\n",
       "    }\n",
       "</style>\n",
       "<table border=\"1\" class=\"dataframe\">\n",
       "  <thead>\n",
       "    <tr style=\"text-align: right;\">\n",
       "      <th></th>\n",
       "      <th>article_id</th>\n",
       "      <th>product_code</th>\n",
       "      <th>Product Name</th>\n",
       "      <th>product_type_no</th>\n",
       "      <th>Product Type Name</th>\n",
       "      <th>Product Group Name</th>\n",
       "      <th>graphical_appearance_no</th>\n",
       "      <th>graphical_appearance_name</th>\n",
       "      <th>colour_group_code</th>\n",
       "      <th>colour_group_name</th>\n",
       "      <th>perceived_colour_value_id</th>\n",
       "      <th>perceived_colour_value_name</th>\n",
       "      <th>perceived_colour_master_id</th>\n",
       "      <th>perceived_colour_master_name</th>\n",
       "      <th>department_no</th>\n",
       "      <th>department_name</th>\n",
       "      <th>index_code</th>\n",
       "      <th>index_name</th>\n",
       "      <th>index_group_no</th>\n",
       "      <th>Index Group Name</th>\n",
       "      <th>section_no</th>\n",
       "      <th>section_name</th>\n",
       "      <th>garment_group_no</th>\n",
       "      <th>garment_group_name</th>\n",
       "      <th>detail_desc</th>\n",
       "      <th>est_purchase</th>\n",
       "    </tr>\n",
       "  </thead>\n",
       "  <tbody>\n",
       "    <tr>\n",
       "      <th>0</th>\n",
       "      <td>108775015</td>\n",
       "      <td>108775</td>\n",
       "      <td>Strap top</td>\n",
       "      <td>253</td>\n",
       "      <td>Vest top</td>\n",
       "      <td>Garment Upper body</td>\n",
       "      <td>1010016</td>\n",
       "      <td>Solid</td>\n",
       "      <td>9</td>\n",
       "      <td>Black</td>\n",
       "      <td>4</td>\n",
       "      <td>Dark</td>\n",
       "      <td>5</td>\n",
       "      <td>Black</td>\n",
       "      <td>1676</td>\n",
       "      <td>Jersey Basic</td>\n",
       "      <td>A</td>\n",
       "      <td>Ladieswear</td>\n",
       "      <td>1</td>\n",
       "      <td>Ladieswear</td>\n",
       "      <td>16</td>\n",
       "      <td>Womens Everyday Basics</td>\n",
       "      <td>1002</td>\n",
       "      <td>Jersey Basic</td>\n",
       "      <td>Jersey top with narrow shoulder straps.</td>\n",
       "      <td>1.0</td>\n",
       "    </tr>\n",
       "    <tr>\n",
       "      <th>68383</th>\n",
       "      <td>754138003</td>\n",
       "      <td>754138</td>\n",
       "      <td>Casablanca blazer</td>\n",
       "      <td>264</td>\n",
       "      <td>Blazer</td>\n",
       "      <td>Garment Upper body</td>\n",
       "      <td>1010026</td>\n",
       "      <td>Other structure</td>\n",
       "      <td>9</td>\n",
       "      <td>Black</td>\n",
       "      <td>4</td>\n",
       "      <td>Dark</td>\n",
       "      <td>5</td>\n",
       "      <td>Black</td>\n",
       "      <td>8757</td>\n",
       "      <td>Young Boy Shirt</td>\n",
       "      <td>I</td>\n",
       "      <td>Children Sizes 134-170</td>\n",
       "      <td>4</td>\n",
       "      <td>Baby/Children</td>\n",
       "      <td>47</td>\n",
       "      <td>Young Boy</td>\n",
       "      <td>1011</td>\n",
       "      <td>Shirts</td>\n",
       "      <td>Single-breasted jacket in a textured weave with notch lapels and buttoning at the front. Fake pocket with a decorative handkerchief at the top and fake flap pockets at the front. Decorative buttons at the cuffs and a single back vent. Lined.</td>\n",
       "      <td>1.0</td>\n",
       "    </tr>\n",
       "    <tr>\n",
       "      <th>68381</th>\n",
       "      <td>754136002</td>\n",
       "      <td>754136</td>\n",
       "      <td>DIV Jersey blazer (1)</td>\n",
       "      <td>264</td>\n",
       "      <td>Blazer</td>\n",
       "      <td>Garment Upper body</td>\n",
       "      <td>1010016</td>\n",
       "      <td>Solid</td>\n",
       "      <td>53</td>\n",
       "      <td>Dark Pink</td>\n",
       "      <td>5</td>\n",
       "      <td>Bright</td>\n",
       "      <td>4</td>\n",
       "      <td>Pink</td>\n",
       "      <td>1652</td>\n",
       "      <td>Divided+</td>\n",
       "      <td>D</td>\n",
       "      <td>Divided</td>\n",
       "      <td>2</td>\n",
       "      <td>Divided</td>\n",
       "      <td>50</td>\n",
       "      <td>Divided Projects</td>\n",
       "      <td>1001</td>\n",
       "      <td>Unknown</td>\n",
       "      <td>Straight-cut jacket in soft jersey with long notch lapels, jetted front pockets and 3/4-length sleeves with sewn-in turn-ups. No fasteners. Unlined.</td>\n",
       "      <td>1.0</td>\n",
       "    </tr>\n",
       "  </tbody>\n",
       "</table>\n",
       "</div>"
      ],
      "text/plain": [
       "       article_id  product_code           Product Name  product_type_no  \\\n",
       "0       108775015        108775              Strap top              253   \n",
       "68383   754138003        754138      Casablanca blazer              264   \n",
       "68381   754136002        754136  DIV Jersey blazer (1)              264   \n",
       "\n",
       "      Product Type Name  Product Group Name  graphical_appearance_no  \\\n",
       "0              Vest top  Garment Upper body                  1010016   \n",
       "68383            Blazer  Garment Upper body                  1010026   \n",
       "68381            Blazer  Garment Upper body                  1010016   \n",
       "\n",
       "      graphical_appearance_name  colour_group_code colour_group_name  \\\n",
       "0                         Solid                  9             Black   \n",
       "68383           Other structure                  9             Black   \n",
       "68381                     Solid                 53         Dark Pink   \n",
       "\n",
       "       perceived_colour_value_id perceived_colour_value_name  \\\n",
       "0                              4                        Dark   \n",
       "68383                          4                        Dark   \n",
       "68381                          5                      Bright   \n",
       "\n",
       "       perceived_colour_master_id perceived_colour_master_name  department_no  \\\n",
       "0                               5                        Black           1676   \n",
       "68383                           5                        Black           8757   \n",
       "68381                           4                         Pink           1652   \n",
       "\n",
       "       department_name index_code              index_name  index_group_no  \\\n",
       "0         Jersey Basic          A              Ladieswear               1   \n",
       "68383  Young Boy Shirt          I  Children Sizes 134-170               4   \n",
       "68381         Divided+          D                 Divided               2   \n",
       "\n",
       "      Index Group Name  section_no            section_name  garment_group_no  \\\n",
       "0           Ladieswear          16  Womens Everyday Basics              1002   \n",
       "68383    Baby/Children          47               Young Boy              1011   \n",
       "68381          Divided          50        Divided Projects              1001   \n",
       "\n",
       "      garment_group_name  \\\n",
       "0           Jersey Basic   \n",
       "68383             Shirts   \n",
       "68381            Unknown   \n",
       "\n",
       "                                                                                                                                                                                                                                             detail_desc  \\\n",
       "0                                                                                                                                                                                                                Jersey top with narrow shoulder straps.   \n",
       "68383  Single-breasted jacket in a textured weave with notch lapels and buttoning at the front. Fake pocket with a decorative handkerchief at the top and fake flap pockets at the front. Decorative buttons at the cuffs and a single back vent. Lined.   \n",
       "68381                                                                                               Straight-cut jacket in soft jersey with long notch lapels, jetted front pockets and 3/4-length sleeves with sewn-in turn-ups. No fasteners. Unlined.   \n",
       "\n",
       "       est_purchase  \n",
       "0               1.0  \n",
       "68383           1.0  \n",
       "68381           1.0  "
      ]
     },
     "execution_count": 36,
     "metadata": {},
     "output_type": "execute_result"
    }
   ],
   "source": [
    "customer_article_recommend()"
   ]
  },
  {
   "cell_type": "code",
   "execution_count": 37,
   "metadata": {
    "ExecuteTime": {
     "end_time": "2022-06-01T06:03:47.465002Z",
     "start_time": "2022-06-01T06:03:36.031708Z"
    }
   },
   "outputs": [
    {
     "name": "stdout",
     "output_type": "stream",
     "text": [
      "CustomerID: ffc92c3f7b0b302f393c2968b290f6e5c5b5510d1cf1dfd2f8586a5ce3ce8bf4\n",
      "How many recommendations? 5\n"
     ]
    },
    {
     "data": {
      "text/html": [
       "<div>\n",
       "<style scoped>\n",
       "    .dataframe tbody tr th:only-of-type {\n",
       "        vertical-align: middle;\n",
       "    }\n",
       "\n",
       "    .dataframe tbody tr th {\n",
       "        vertical-align: top;\n",
       "    }\n",
       "\n",
       "    .dataframe thead th {\n",
       "        text-align: right;\n",
       "    }\n",
       "</style>\n",
       "<table border=\"1\" class=\"dataframe\">\n",
       "  <thead>\n",
       "    <tr style=\"text-align: right;\">\n",
       "      <th></th>\n",
       "      <th>article_id</th>\n",
       "      <th>product_code</th>\n",
       "      <th>Product Name</th>\n",
       "      <th>product_type_no</th>\n",
       "      <th>Product Type Name</th>\n",
       "      <th>Product Group Name</th>\n",
       "      <th>graphical_appearance_no</th>\n",
       "      <th>graphical_appearance_name</th>\n",
       "      <th>colour_group_code</th>\n",
       "      <th>colour_group_name</th>\n",
       "      <th>perceived_colour_value_id</th>\n",
       "      <th>perceived_colour_value_name</th>\n",
       "      <th>perceived_colour_master_id</th>\n",
       "      <th>perceived_colour_master_name</th>\n",
       "      <th>department_no</th>\n",
       "      <th>department_name</th>\n",
       "      <th>index_code</th>\n",
       "      <th>index_name</th>\n",
       "      <th>index_group_no</th>\n",
       "      <th>Index Group Name</th>\n",
       "      <th>section_no</th>\n",
       "      <th>section_name</th>\n",
       "      <th>garment_group_no</th>\n",
       "      <th>garment_group_name</th>\n",
       "      <th>detail_desc</th>\n",
       "      <th>est_purchase</th>\n",
       "    </tr>\n",
       "  </thead>\n",
       "  <tbody>\n",
       "    <tr>\n",
       "      <th>0</th>\n",
       "      <td>108775015</td>\n",
       "      <td>108775</td>\n",
       "      <td>Strap top</td>\n",
       "      <td>253</td>\n",
       "      <td>Vest top</td>\n",
       "      <td>Garment Upper body</td>\n",
       "      <td>1010016</td>\n",
       "      <td>Solid</td>\n",
       "      <td>9</td>\n",
       "      <td>Black</td>\n",
       "      <td>4</td>\n",
       "      <td>Dark</td>\n",
       "      <td>5</td>\n",
       "      <td>Black</td>\n",
       "      <td>1676</td>\n",
       "      <td>Jersey Basic</td>\n",
       "      <td>A</td>\n",
       "      <td>Ladieswear</td>\n",
       "      <td>1</td>\n",
       "      <td>Ladieswear</td>\n",
       "      <td>16</td>\n",
       "      <td>Womens Everyday Basics</td>\n",
       "      <td>1002</td>\n",
       "      <td>Jersey Basic</td>\n",
       "      <td>Jersey top with narrow shoulder straps.</td>\n",
       "      <td>1.0</td>\n",
       "    </tr>\n",
       "    <tr>\n",
       "      <th>68383</th>\n",
       "      <td>754138003</td>\n",
       "      <td>754138</td>\n",
       "      <td>Casablanca blazer</td>\n",
       "      <td>264</td>\n",
       "      <td>Blazer</td>\n",
       "      <td>Garment Upper body</td>\n",
       "      <td>1010026</td>\n",
       "      <td>Other structure</td>\n",
       "      <td>9</td>\n",
       "      <td>Black</td>\n",
       "      <td>4</td>\n",
       "      <td>Dark</td>\n",
       "      <td>5</td>\n",
       "      <td>Black</td>\n",
       "      <td>8757</td>\n",
       "      <td>Young Boy Shirt</td>\n",
       "      <td>I</td>\n",
       "      <td>Children Sizes 134-170</td>\n",
       "      <td>4</td>\n",
       "      <td>Baby/Children</td>\n",
       "      <td>47</td>\n",
       "      <td>Young Boy</td>\n",
       "      <td>1011</td>\n",
       "      <td>Shirts</td>\n",
       "      <td>Single-breasted jacket in a textured weave with notch lapels and buttoning at the front. Fake pocket with a decorative handkerchief at the top and fake flap pockets at the front. Decorative buttons at the cuffs and a single back vent. Lined.</td>\n",
       "      <td>1.0</td>\n",
       "    </tr>\n",
       "    <tr>\n",
       "      <th>68381</th>\n",
       "      <td>754136002</td>\n",
       "      <td>754136</td>\n",
       "      <td>DIV Jersey blazer (1)</td>\n",
       "      <td>264</td>\n",
       "      <td>Blazer</td>\n",
       "      <td>Garment Upper body</td>\n",
       "      <td>1010016</td>\n",
       "      <td>Solid</td>\n",
       "      <td>53</td>\n",
       "      <td>Dark Pink</td>\n",
       "      <td>5</td>\n",
       "      <td>Bright</td>\n",
       "      <td>4</td>\n",
       "      <td>Pink</td>\n",
       "      <td>1652</td>\n",
       "      <td>Divided+</td>\n",
       "      <td>D</td>\n",
       "      <td>Divided</td>\n",
       "      <td>2</td>\n",
       "      <td>Divided</td>\n",
       "      <td>50</td>\n",
       "      <td>Divided Projects</td>\n",
       "      <td>1001</td>\n",
       "      <td>Unknown</td>\n",
       "      <td>Straight-cut jacket in soft jersey with long notch lapels, jetted front pockets and 3/4-length sleeves with sewn-in turn-ups. No fasteners. Unlined.</td>\n",
       "      <td>1.0</td>\n",
       "    </tr>\n",
       "    <tr>\n",
       "      <th>68380</th>\n",
       "      <td>754136001</td>\n",
       "      <td>754136</td>\n",
       "      <td>DIV Jersey blazer (1)</td>\n",
       "      <td>264</td>\n",
       "      <td>Blazer</td>\n",
       "      <td>Garment Upper body</td>\n",
       "      <td>1010016</td>\n",
       "      <td>Solid</td>\n",
       "      <td>22</td>\n",
       "      <td>Yellow</td>\n",
       "      <td>7</td>\n",
       "      <td>Medium</td>\n",
       "      <td>8</td>\n",
       "      <td>Yellow</td>\n",
       "      <td>1652</td>\n",
       "      <td>Divided+</td>\n",
       "      <td>D</td>\n",
       "      <td>Divided</td>\n",
       "      <td>2</td>\n",
       "      <td>Divided</td>\n",
       "      <td>50</td>\n",
       "      <td>Divided Projects</td>\n",
       "      <td>1001</td>\n",
       "      <td>Unknown</td>\n",
       "      <td>Straight-cut jacket in soft jersey with long notch lapels, jetted front pockets and 3/4-length sleeves with sewn-in turn-ups. No fasteners. Unlined.</td>\n",
       "      <td>1.0</td>\n",
       "    </tr>\n",
       "    <tr>\n",
       "      <th>68379</th>\n",
       "      <td>754135001</td>\n",
       "      <td>754135</td>\n",
       "      <td>Denim Pauls LS Bandcollar</td>\n",
       "      <td>259</td>\n",
       "      <td>Shirt</td>\n",
       "      <td>Garment Upper body</td>\n",
       "      <td>1010023</td>\n",
       "      <td>Denim</td>\n",
       "      <td>71</td>\n",
       "      <td>Light Blue</td>\n",
       "      <td>3</td>\n",
       "      <td>Light</td>\n",
       "      <td>2</td>\n",
       "      <td>Blue</td>\n",
       "      <td>5767</td>\n",
       "      <td>Shirt</td>\n",
       "      <td>F</td>\n",
       "      <td>Menswear</td>\n",
       "      <td>3</td>\n",
       "      <td>Menswear</td>\n",
       "      <td>21</td>\n",
       "      <td>Contemporary Casual</td>\n",
       "      <td>1011</td>\n",
       "      <td>Shirts</td>\n",
       "      <td>Long-sleeved shirt in soft, washed cotton denim with a grandad collar, classic front, adjustable buttoning at the cuffs, and a rounded hem.</td>\n",
       "      <td>1.0</td>\n",
       "    </tr>\n",
       "  </tbody>\n",
       "</table>\n",
       "</div>"
      ],
      "text/plain": [
       "       article_id  product_code               Product Name  product_type_no  \\\n",
       "0       108775015        108775                  Strap top              253   \n",
       "68383   754138003        754138          Casablanca blazer              264   \n",
       "68381   754136002        754136      DIV Jersey blazer (1)              264   \n",
       "68380   754136001        754136      DIV Jersey blazer (1)              264   \n",
       "68379   754135001        754135  Denim Pauls LS Bandcollar              259   \n",
       "\n",
       "      Product Type Name  Product Group Name  graphical_appearance_no  \\\n",
       "0              Vest top  Garment Upper body                  1010016   \n",
       "68383            Blazer  Garment Upper body                  1010026   \n",
       "68381            Blazer  Garment Upper body                  1010016   \n",
       "68380            Blazer  Garment Upper body                  1010016   \n",
       "68379             Shirt  Garment Upper body                  1010023   \n",
       "\n",
       "      graphical_appearance_name  colour_group_code colour_group_name  \\\n",
       "0                         Solid                  9             Black   \n",
       "68383           Other structure                  9             Black   \n",
       "68381                     Solid                 53         Dark Pink   \n",
       "68380                     Solid                 22            Yellow   \n",
       "68379                     Denim                 71        Light Blue   \n",
       "\n",
       "       perceived_colour_value_id perceived_colour_value_name  \\\n",
       "0                              4                        Dark   \n",
       "68383                          4                        Dark   \n",
       "68381                          5                      Bright   \n",
       "68380                          7                      Medium   \n",
       "68379                          3                       Light   \n",
       "\n",
       "       perceived_colour_master_id perceived_colour_master_name  department_no  \\\n",
       "0                               5                        Black           1676   \n",
       "68383                           5                        Black           8757   \n",
       "68381                           4                         Pink           1652   \n",
       "68380                           8                       Yellow           1652   \n",
       "68379                           2                         Blue           5767   \n",
       "\n",
       "       department_name index_code              index_name  index_group_no  \\\n",
       "0         Jersey Basic          A              Ladieswear               1   \n",
       "68383  Young Boy Shirt          I  Children Sizes 134-170               4   \n",
       "68381         Divided+          D                 Divided               2   \n",
       "68380         Divided+          D                 Divided               2   \n",
       "68379            Shirt          F                Menswear               3   \n",
       "\n",
       "      Index Group Name  section_no            section_name  garment_group_no  \\\n",
       "0           Ladieswear          16  Womens Everyday Basics              1002   \n",
       "68383    Baby/Children          47               Young Boy              1011   \n",
       "68381          Divided          50        Divided Projects              1001   \n",
       "68380          Divided          50        Divided Projects              1001   \n",
       "68379         Menswear          21     Contemporary Casual              1011   \n",
       "\n",
       "      garment_group_name  \\\n",
       "0           Jersey Basic   \n",
       "68383             Shirts   \n",
       "68381            Unknown   \n",
       "68380            Unknown   \n",
       "68379             Shirts   \n",
       "\n",
       "                                                                                                                                                                                                                                             detail_desc  \\\n",
       "0                                                                                                                                                                                                                Jersey top with narrow shoulder straps.   \n",
       "68383  Single-breasted jacket in a textured weave with notch lapels and buttoning at the front. Fake pocket with a decorative handkerchief at the top and fake flap pockets at the front. Decorative buttons at the cuffs and a single back vent. Lined.   \n",
       "68381                                                                                               Straight-cut jacket in soft jersey with long notch lapels, jetted front pockets and 3/4-length sleeves with sewn-in turn-ups. No fasteners. Unlined.   \n",
       "68380                                                                                               Straight-cut jacket in soft jersey with long notch lapels, jetted front pockets and 3/4-length sleeves with sewn-in turn-ups. No fasteners. Unlined.   \n",
       "68379                                                                                                        Long-sleeved shirt in soft, washed cotton denim with a grandad collar, classic front, adjustable buttoning at the cuffs, and a rounded hem.   \n",
       "\n",
       "       est_purchase  \n",
       "0               1.0  \n",
       "68383           1.0  \n",
       "68381           1.0  \n",
       "68380           1.0  \n",
       "68379           1.0  "
      ]
     },
     "execution_count": 37,
     "metadata": {},
     "output_type": "execute_result"
    }
   ],
   "source": [
    "customer_article_recommend()"
   ]
  },
  {
   "cell_type": "markdown",
   "metadata": {},
   "source": [
    "## Conclusion"
   ]
  },
  {
   "cell_type": "markdown",
   "metadata": {},
   "source": []
  }
 ],
 "metadata": {
  "kernelspec": {
   "display_name": "Python (learn-env)",
   "language": "python",
   "name": "learn-env"
  },
  "language_info": {
   "codemirror_mode": {
    "name": "ipython",
    "version": 3
   },
   "file_extension": ".py",
   "mimetype": "text/x-python",
   "name": "python",
   "nbconvert_exporter": "python",
   "pygments_lexer": "ipython3",
   "version": "3.8.5"
  },
  "varInspector": {
   "cols": {
    "lenName": 16,
    "lenType": 16,
    "lenVar": 40
   },
   "kernels_config": {
    "python": {
     "delete_cmd_postfix": "",
     "delete_cmd_prefix": "del ",
     "library": "var_list.py",
     "varRefreshCmd": "print(var_dic_list())"
    },
    "r": {
     "delete_cmd_postfix": ") ",
     "delete_cmd_prefix": "rm(",
     "library": "var_list.r",
     "varRefreshCmd": "cat(var_dic_list()) "
    }
   },
   "types_to_exclude": [
    "module",
    "function",
    "builtin_function_or_method",
    "instance",
    "_Feature"
   ],
   "window_display": false
  }
 },
 "nbformat": 4,
 "nbformat_minor": 4
}
