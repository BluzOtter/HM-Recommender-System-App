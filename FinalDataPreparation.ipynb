{
 "cells": [
  {
   "cell_type": "markdown",
   "metadata": {},
   "source": [
    "## Data Cleaning"
   ]
  },
  {
   "cell_type": "code",
   "execution_count": 26,
   "metadata": {
    "ExecuteTime": {
     "end_time": "2022-05-26T20:49:48.778613Z",
     "start_time": "2022-05-26T20:49:48.775684Z"
    }
   },
   "outputs": [],
   "source": [
    "import pandas as pd\n",
    "import numpy as np\n",
    "\n",
    "import seaborn as sns\n",
    "from matplotlib import pyplot as plt\n",
    "\n",
    "pd.set_option('display.max_columns', 50)\n",
    "\n",
    "\n",
    "import datetime"
   ]
  },
  {
   "cell_type": "markdown",
   "metadata": {},
   "source": [
    "Let's try surprise library for the collaborative recommender system. For this we want three columns -\n",
    "- customer id\n",
    "- article id \n",
    "- 1/0 for either the customer bought the article or not\n",
    "\n",
    "So for every customer in the transactions df, we want to see which article did they buy or not. These articles are only the ones from the transactions df. "
   ]
  },
  {
   "cell_type": "markdown",
   "metadata": {},
   "source": [
    "Data Cleaning and EDA again"
   ]
  },
  {
   "cell_type": "code",
   "execution_count": null,
   "metadata": {
    "ExecuteTime": {
     "end_time": "2022-05-26T15:30:46.624787Z",
     "start_time": "2022-05-26T15:30:19.705565Z"
    }
   },
   "outputs": [],
   "source": [
    "transactions = pd.read_csv('Data/h-and-m-personalized-fashion-recommendations/transactions_train.csv')"
   ]
  },
  {
   "cell_type": "code",
   "execution_count": null,
   "metadata": {
    "ExecuteTime": {
     "end_time": "2022-05-26T15:30:46.659963Z",
     "start_time": "2022-05-26T15:30:46.654793Z"
    }
   },
   "outputs": [],
   "source": [
    "transactions.shape"
   ]
  },
  {
   "cell_type": "code",
   "execution_count": null,
   "metadata": {
    "ExecuteTime": {
     "end_time": "2022-05-26T15:31:08.241447Z",
     "start_time": "2022-05-26T15:30:46.669835Z"
    }
   },
   "outputs": [],
   "source": [
    "transactions['InvoiceDate'] = pd.to_datetime(transactions['t_dat'],format='%Y-%m-%d')\n",
    "transactions=transactions[[\"InvoiceDate\", \"customer_id\", \"article_id\", \"price\",\"sales_channel_id\"]].drop_duplicates()"
   ]
  },
  {
   "cell_type": "code",
   "execution_count": null,
   "metadata": {
    "ExecuteTime": {
     "end_time": "2022-05-26T15:31:08.268344Z",
     "start_time": "2022-05-26T15:31:08.264758Z"
    }
   },
   "outputs": [],
   "source": [
    "transactions.shape"
   ]
  },
  {
   "cell_type": "markdown",
   "metadata": {},
   "source": [
    "Shape of the transactions df reduced from 31,788,324 transactions to 28,813,419."
   ]
  },
  {
   "cell_type": "code",
   "execution_count": null,
   "metadata": {
    "ExecuteTime": {
     "end_time": "2022-05-26T15:31:08.297282Z",
     "start_time": "2022-05-26T15:31:08.286962Z"
    }
   },
   "outputs": [],
   "source": [
    "transactions.head(3)"
   ]
  },
  {
   "cell_type": "code",
   "execution_count": null,
   "metadata": {
    "ExecuteTime": {
     "end_time": "2022-05-26T15:31:08.323370Z",
     "start_time": "2022-05-26T15:31:08.311191Z"
    }
   },
   "outputs": [],
   "source": [
    "transactions.info()"
   ]
  },
  {
   "cell_type": "code",
   "execution_count": null,
   "metadata": {
    "ExecuteTime": {
     "end_time": "2022-05-26T15:31:08.340209Z",
     "start_time": "2022-05-26T15:31:08.337664Z"
    }
   },
   "outputs": [],
   "source": [
    "# unique customer ids in the transactions df \n",
    "\n",
    "# len(transactions['customer_id'].unique())\n",
    "# unique_customers = transactions['customer_id'].unique().tolist()\n",
    "# unique_customers"
   ]
  },
  {
   "cell_type": "code",
   "execution_count": null,
   "metadata": {
    "ExecuteTime": {
     "end_time": "2022-05-26T15:31:08.358080Z",
     "start_time": "2022-05-26T15:31:08.355002Z"
    },
    "scrolled": true
   },
   "outputs": [],
   "source": [
    "# unique article ids in the transactions df \n",
    "\n",
    "# len(transactions['article_id'].unique())\n",
    "# unique_articles = transactions['article_id'].unique().tolist()\n",
    "# unique_articles"
   ]
  },
  {
   "cell_type": "markdown",
   "metadata": {},
   "source": [
    "Now we know there are 1,362,281 (1,371,980 from customers df) customers who have transacted with 104,547 articles (105,542 from articles df). Now, we want to add a column in df where we know if a customer bought an article or not. "
   ]
  },
  {
   "cell_type": "code",
   "execution_count": null,
   "metadata": {
    "ExecuteTime": {
     "end_time": "2022-05-26T15:31:08.371996Z",
     "start_time": "2022-05-26T15:31:08.369441Z"
    }
   },
   "outputs": [],
   "source": [
    "# purchase_df = transactions[['customer_id', 'article_id']]\n",
    "# purchase_df['purchase'] = 1\n",
    "# purchase_df.reset_index()\n",
    "# purchase_df.head(3)\n"
   ]
  },
  {
   "cell_type": "code",
   "execution_count": null,
   "metadata": {
    "ExecuteTime": {
     "end_time": "2022-05-24T16:37:20.572789Z",
     "start_time": "2022-05-24T16:37:20.570288Z"
    }
   },
   "outputs": [],
   "source": [
    "# purchase_df.isna().sum()"
   ]
  },
  {
   "cell_type": "code",
   "execution_count": null,
   "metadata": {
    "ExecuteTime": {
     "end_time": "2022-05-24T16:37:20.591694Z",
     "start_time": "2022-05-24T16:37:20.588746Z"
    },
    "scrolled": true
   },
   "outputs": [],
   "source": [
    "# unique_customers"
   ]
  },
  {
   "cell_type": "code",
   "execution_count": null,
   "metadata": {
    "ExecuteTime": {
     "end_time": "2022-05-24T16:37:20.610985Z",
     "start_time": "2022-05-24T16:37:20.608165Z"
    }
   },
   "outputs": [],
   "source": [
    "# purchase_df.head(1)"
   ]
  },
  {
   "cell_type": "code",
   "execution_count": null,
   "metadata": {
    "ExecuteTime": {
     "end_time": "2022-05-24T16:37:20.632233Z",
     "start_time": "2022-05-24T16:37:20.629629Z"
    }
   },
   "outputs": [],
   "source": [
    "\n",
    "# for customer in unique_customers:\n",
    "# #     print(customer)\n",
    "#     reqd_index = purchase_df.index[purchase_df['customer_id'] == customer].tolist()\n",
    "# #     print(customer)\n",
    "# #     print(reqd_index)\n",
    "#     articles_bought = [items for items in purchase_df['article_id'][[index for index in reqd_index]]]\n",
    "# #     print(len(articles_bought))\n",
    "# #now add rows for customer id and articles not in the articles bought list and 0 in purchase column\n",
    "#     articles_not_bought = [item for item in unique_articles if item not in articles_bought]\n",
    "# #     print(len(articles_not_bought))\n",
    "#     for article in articles_not_bought:\n",
    "#         row = {'customer_id': customer, 'article_id': article, 'purchase': 0}\n",
    "#         purchase_df = purchase_df.append(row, ignore_index = True)\n",
    "# #         break\n",
    "# #     break"
   ]
  },
  {
   "cell_type": "code",
   "execution_count": null,
   "metadata": {
    "ExecuteTime": {
     "end_time": "2022-05-24T16:37:20.650311Z",
     "start_time": "2022-05-24T16:37:20.647415Z"
    }
   },
   "outputs": [],
   "source": [
    "# purchase_df.tail()"
   ]
  },
  {
   "cell_type": "code",
   "execution_count": null,
   "metadata": {
    "ExecuteTime": {
     "end_time": "2022-05-24T16:37:20.667927Z",
     "start_time": "2022-05-24T16:37:20.665152Z"
    }
   },
   "outputs": [],
   "source": [
    "# len(unique_articles)"
   ]
  },
  {
   "cell_type": "code",
   "execution_count": null,
   "metadata": {
    "ExecuteTime": {
     "end_time": "2022-05-24T16:37:20.685310Z",
     "start_time": "2022-05-24T16:37:20.682482Z"
    }
   },
   "outputs": [],
   "source": [
    "# purchase_df.loc[[23934158]]"
   ]
  },
  {
   "cell_type": "code",
   "execution_count": null,
   "metadata": {
    "ExecuteTime": {
     "end_time": "2022-05-24T16:37:20.702842Z",
     "start_time": "2022-05-24T16:37:20.700521Z"
    }
   },
   "outputs": [],
   "source": [
    "# purchase_df.loc[[0]]"
   ]
  },
  {
   "cell_type": "markdown",
   "metadata": {},
   "source": [
    "# RFM Analysis - \n",
    "\n",
    "RFM analysis is a marketing technique used to quantitatively rank and group customers based on the recency, frequency and monetary total of their recent transactions to identify the best customers and perform targeted marketing campaigns."
   ]
  },
  {
   "cell_type": "code",
   "execution_count": null,
   "metadata": {
    "ExecuteTime": {
     "end_time": "2022-05-24T19:51:12.554806Z",
     "start_time": "2022-05-24T19:51:12.551435Z"
    }
   },
   "outputs": [],
   "source": [
    "# import required libraries for clustering\n",
    "# import sklearn\n",
    "# from sklearn.preprocessing import StandardScaler\n",
    "# from sklearn.cluster import KMeans\n",
    "# from sklearn.metrics import silhouette_score\n",
    "# from scipy.cluster.hierarchy import linkage\n",
    "# from scipy.cluster.hierarchy import dendrogram\n",
    "# from scipy.cluster.hierarchy import cut_tree\n",
    "# from sklearn.metrics.pairwise import cosine_similarity\n",
    "\n",
    "\n"
   ]
  },
  {
   "cell_type": "code",
   "execution_count": null,
   "metadata": {
    "ExecuteTime": {
     "end_time": "2022-05-24T23:50:37.961785Z",
     "start_time": "2022-05-24T23:50:36.238847Z"
    }
   },
   "outputs": [],
   "source": [
    "start_date = datetime.datetime(2020,3,1)\n",
    "\n",
    "# Filter transactions by date\n",
    "transactions[\"t_dat\"] = pd.to_datetime(transactions[\"InvoiceDate\"])\n",
    "transactions = transactions.loc[transactions[\"t_dat\"] >= start_date]"
   ]
  },
  {
   "cell_type": "code",
   "execution_count": null,
   "metadata": {
    "ExecuteTime": {
     "end_time": "2022-05-24T23:50:39.635241Z",
     "start_time": "2022-05-24T23:50:39.632354Z"
    }
   },
   "outputs": [],
   "source": [
    "#analysis_date = max(transactions['InvoiceDate']) + dt.timedelta(days= 1)\n",
    "analysis_date=datetime.datetime(2020,9,23)\n",
    "print((analysis_date).date())"
   ]
  },
  {
   "cell_type": "code",
   "execution_count": null,
   "metadata": {
    "ExecuteTime": {
     "end_time": "2022-05-24T23:50:40.831398Z",
     "start_time": "2022-05-24T23:50:40.783796Z"
    }
   },
   "outputs": [],
   "source": [
    "transactions['date']=transactions['InvoiceDate']\n",
    "(analysis_date - transactions['InvoiceDate'].max()).days"
   ]
  },
  {
   "cell_type": "code",
   "execution_count": null,
   "metadata": {
    "ExecuteTime": {
     "end_time": "2022-05-24T23:52:13.090869Z",
     "start_time": "2022-05-24T23:50:41.759167Z"
    }
   },
   "outputs": [],
   "source": [
    "rfm = transactions.groupby('customer_id').agg({\n",
    "    'InvoiceDate': lambda x: (analysis_date - x.max()).days,\n",
    "    'date': 'count',\n",
    "    'price': 'sum'})"
   ]
  },
  {
   "cell_type": "code",
   "execution_count": null,
   "metadata": {
    "ExecuteTime": {
     "end_time": "2022-05-24T23:52:13.145970Z",
     "start_time": "2022-05-24T23:52:13.137133Z"
    }
   },
   "outputs": [],
   "source": [
    "rfm.head()"
   ]
  },
  {
   "cell_type": "code",
   "execution_count": null,
   "metadata": {
    "ExecuteTime": {
     "end_time": "2022-05-24T23:52:13.359730Z",
     "start_time": "2022-05-24T23:52:13.181764Z"
    }
   },
   "outputs": [],
   "source": [
    "rfm.columns=[\"Recency\",\"Frequency\",\"Monetary\"]\n",
    "rfm = rfm[rfm[\"Monetary\"] > 0]"
   ]
  },
  {
   "cell_type": "code",
   "execution_count": null,
   "metadata": {
    "ExecuteTime": {
     "end_time": "2022-05-24T23:52:13.755485Z",
     "start_time": "2022-05-24T23:52:13.400489Z"
    }
   },
   "outputs": [],
   "source": [
    "#Date from customer's last purchase.The nearest date gets 5 and the furthest date gets 1.\n",
    "rfm[\"recency_score\"] = pd.qcut(rfm['Recency'], 5, labels=[5, 4, 3, 2, 1])\n",
    "# Total number of purchases.The least frequency gets 1 and the maximum frequency gets 5.\n",
    "rfm[\"frequency_score\"] = pd.qcut(rfm[\"Frequency\"].rank(method=\"first\"), 5, labels=[1, 2, 3, 4, 5])\n",
    "#Total spend by the customer.The least money gets 1, the most money gets 5.\n",
    "rfm[\"monetary_score\"]= pd.qcut(rfm[\"Monetary\"],5,labels=[1,2,3,4,5])\n",
    "rfm.head()"
   ]
  },
  {
   "cell_type": "code",
   "execution_count": null,
   "metadata": {
    "ExecuteTime": {
     "end_time": "2022-05-24T23:52:14.852741Z",
     "start_time": "2022-05-24T23:52:13.791736Z"
    }
   },
   "outputs": [],
   "source": [
    "#RFM - The value of 2 different variables that were formed was recorded as a RFM_SCORE\n",
    "rfm[\"RFM_SCORE\"] = (rfm[\"recency_score\"].astype(str) + rfm[\"frequency_score\"].astype(str))"
   ]
  },
  {
   "cell_type": "code",
   "execution_count": null,
   "metadata": {
    "ExecuteTime": {
     "end_time": "2022-05-24T23:52:22.905349Z",
     "start_time": "2022-05-24T23:52:14.902065Z"
    }
   },
   "outputs": [],
   "source": [
    "seg_map = {\n",
    "    r'[1-2][1-2]': 'hibernating',\n",
    "    r'[1-2][3-4]': 'at_Risk',\n",
    "    r'[1-2]5': 'cant_loose',\n",
    "    r'3[1-2]': 'about_to_sleep',\n",
    "    r'33': 'need_attention',\n",
    "    r'[3-4][4-5]': 'loyal_customers',\n",
    "    r'41': 'promising',\n",
    "    r'51': 'new_customers',\n",
    "    r'[4-5][2-3]': 'potential_loyalists',\n",
    "    r'5[4-5]': 'champions'\n",
    "}\n",
    "rfm['segment'] = rfm['RFM_SCORE'].replace(seg_map, regex=True)\n",
    "rfm.head()"
   ]
  },
  {
   "cell_type": "code",
   "execution_count": null,
   "metadata": {
    "ExecuteTime": {
     "end_time": "2022-05-24T23:52:23.347002Z",
     "start_time": "2022-05-24T23:52:22.949672Z"
    }
   },
   "outputs": [],
   "source": [
    "rfm[[\"segment\", \"Recency\",\"Frequency\",\"Monetary\"]].groupby(\"segment\").agg([\"mean\",\"count\",\"max\"]).round()"
   ]
  },
  {
   "cell_type": "code",
   "execution_count": null,
   "metadata": {
    "ExecuteTime": {
     "end_time": "2022-05-24T23:52:23.947492Z",
     "start_time": "2022-05-24T23:52:23.388522Z"
    }
   },
   "outputs": [],
   "source": [
    "import plotly.express as px"
   ]
  },
  {
   "cell_type": "code",
   "execution_count": null,
   "metadata": {
    "ExecuteTime": {
     "end_time": "2022-05-24T23:52:24.732560Z",
     "start_time": "2022-05-24T23:52:23.994629Z"
    }
   },
   "outputs": [],
   "source": [
    "x = rfm.segment.value_counts()\n",
    "fig = px.treemap(x, path=[x.index], values=x)\n",
    "fig.update_layout(title_text='Distribution of the RFM Segments', title_x=0.5,\n",
    "                  title_font=dict(size=20))\n",
    "fig.update_traces(textinfo=\"label+value+percent root\")\n",
    "fig.show()"
   ]
  },
  {
   "cell_type": "markdown",
   "metadata": {},
   "source": [
    "### Item-Based Collaborative Filtering -using Probabilistic Matrix Factorization"
   ]
  },
  {
   "cell_type": "markdown",
   "metadata": {},
   "source": [
    "Preparing the data We need to restrict the data respect to a minimum transaction date. In that way, we reduce the dimensionality of the problem and we get rid of transactions that are not important in terms of the time decaying popularity.\n",
    "\n",
    "Also, we are getting rid of articles that have not been bought enough. (Minimum 10 purchases are required)"
   ]
  },
  {
   "cell_type": "code",
   "execution_count": null,
   "metadata": {
    "ExecuteTime": {
     "end_time": "2022-05-24T23:52:24.807973Z",
     "start_time": "2022-05-24T23:52:24.772050Z"
    }
   },
   "outputs": [],
   "source": [
    "rfm=rfm.reset_index()"
   ]
  },
  {
   "cell_type": "code",
   "execution_count": null,
   "metadata": {
    "ExecuteTime": {
     "end_time": "2022-05-24T23:52:24.860468Z",
     "start_time": "2022-05-24T23:52:24.850970Z"
    }
   },
   "outputs": [],
   "source": [
    " transactions.head(1)"
   ]
  },
  {
   "cell_type": "code",
   "execution_count": null,
   "metadata": {
    "ExecuteTime": {
     "end_time": "2022-05-24T23:52:24.917046Z",
     "start_time": "2022-05-24T23:52:24.906861Z"
    }
   },
   "outputs": [],
   "source": [
    "rfm.head(1)"
   ]
  },
  {
   "cell_type": "code",
   "execution_count": null,
   "metadata": {
    "ExecuteTime": {
     "end_time": "2022-05-24T23:52:30.535182Z",
     "start_time": "2022-05-24T23:52:24.982621Z"
    }
   },
   "outputs": [],
   "source": [
    "transactions=pd.merge(transactions,rfm[[\"customer_id\",\"segment\"]],how='inner',on='customer_id')\n",
    "training_segment = ['champions', 'potential_loyalists', 'new_customers','promising','loyal_customers']\n",
    "transactions = transactions[transactions['segment'].isin(training_segment)]\n",
    "transactions=transactions.drop('segment', axis=1)"
   ]
  },
  {
   "cell_type": "code",
   "execution_count": null,
   "metadata": {
    "ExecuteTime": {
     "end_time": "2022-05-24T23:52:30.606725Z",
     "start_time": "2022-05-24T23:52:30.597109Z"
    }
   },
   "outputs": [],
   "source": [
    "transactions.head(2)"
   ]
  },
  {
   "cell_type": "code",
   "execution_count": null,
   "metadata": {
    "ExecuteTime": {
     "end_time": "2022-05-24T23:52:30.665052Z",
     "start_time": "2022-05-24T23:52:30.660916Z"
    }
   },
   "outputs": [],
   "source": [
    "transactions.shape"
   ]
  },
  {
   "cell_type": "code",
   "execution_count": null,
   "metadata": {
    "ExecuteTime": {
     "end_time": "2022-05-24T23:52:30.847691Z",
     "start_time": "2022-05-24T23:52:30.720414Z"
    }
   },
   "outputs": [],
   "source": [
    "start_date = datetime.datetime(2020,9,1)\n",
    "# Filter transactions by date\n",
    "transactions[\"t_dat\"] = transactions[\"InvoiceDate\"]\n",
    "transactions = transactions.loc[transactions[\"InvoiceDate\"] >= start_date]"
   ]
  },
  {
   "cell_type": "code",
   "execution_count": null,
   "metadata": {
    "ExecuteTime": {
     "end_time": "2022-05-24T23:52:30.907538Z",
     "start_time": "2022-05-24T23:52:30.903928Z"
    }
   },
   "outputs": [],
   "source": [
    "transactions.shape"
   ]
  },
  {
   "cell_type": "code",
   "execution_count": null,
   "metadata": {
    "ExecuteTime": {
     "end_time": "2022-05-24T23:52:31.129252Z",
     "start_time": "2022-05-24T23:52:30.959959Z"
    }
   },
   "outputs": [],
   "source": [
    "# Filter transactions by number of an article has been bought\n",
    "article_bought_count = transactions[['article_id', 'InvoiceDate']].groupby('article_id').count().reset_index().rename(columns={'InvoiceDate': 'count'})\n",
    "most_bought_articles = article_bought_count[article_bought_count['count']>10]['article_id'].values\n",
    "transactions = transactions[transactions['article_id'].isin(most_bought_articles)]\n",
    "transactions[\"bought\"]=1 "
   ]
  },
  {
   "cell_type": "code",
   "execution_count": null,
   "metadata": {
    "ExecuteTime": {
     "end_time": "2022-05-24T23:52:31.200995Z",
     "start_time": "2022-05-24T23:52:31.190647Z"
    },
    "scrolled": true
   },
   "outputs": [],
   "source": [
    "transactions.head()"
   ]
  },
  {
   "cell_type": "code",
   "execution_count": null,
   "metadata": {
    "ExecuteTime": {
     "end_time": "2022-05-24T23:52:31.269798Z",
     "start_time": "2022-05-24T23:52:31.266133Z"
    }
   },
   "outputs": [],
   "source": [
    "transactions.shape"
   ]
  },
  {
   "cell_type": "markdown",
   "metadata": {},
   "source": [
    "Due to the big amount of items, we can not consider the whole matrix in order to train. Therefore, we need to generate some negative samples: transactions that have never occured."
   ]
  },
  {
   "cell_type": "code",
   "execution_count": null,
   "metadata": {
    "ExecuteTime": {
     "end_time": "2022-05-24T23:52:31.713982Z",
     "start_time": "2022-05-24T23:52:31.711505Z"
    }
   },
   "outputs": [],
   "source": [
    "# # Generate negative samples\n",
    "# np.random.seed(0)\n",
    "\n",
    "# negative_samples = pd.DataFrame({\n",
    "#     'article_id': np.random.choice(transactions.article_id.unique(), transactions.shape[0]),\n",
    "#     'customer_id': np.random.choice(transactions.customer_id.unique(), transactions.shape[0]),\n",
    "#     'bought': np.zeros(transactions.shape[0])\n",
    "# })"
   ]
  },
  {
   "cell_type": "markdown",
   "metadata": {},
   "source": [
    "Model will be based on recommendations computed through the time decaying popularity and the most similar items to those items bought the most times by each user. Similarity among items is computed through cosine distance."
   ]
  },
  {
   "cell_type": "code",
   "execution_count": null,
   "metadata": {
    "ExecuteTime": {
     "end_time": "2022-05-24T16:39:52.170405Z",
     "start_time": "2022-05-24T16:39:52.162439Z"
    }
   },
   "outputs": [],
   "source": [
    "# negative_samples.head()"
   ]
  },
  {
   "cell_type": "code",
   "execution_count": null,
   "metadata": {
    "ExecuteTime": {
     "end_time": "2022-05-24T16:39:52.360268Z",
     "start_time": "2022-05-24T16:39:52.207818Z"
    },
    "scrolled": true
   },
   "outputs": [],
   "source": [
    "# total_transactions = pd.concat([transactions, negative_samples])\n",
    "# total_transactions"
   ]
  },
  {
   "cell_type": "markdown",
   "metadata": {},
   "source": [
    "Save the transactions df to use for modeling."
   ]
  },
  {
   "cell_type": "code",
   "execution_count": null,
   "metadata": {
    "ExecuteTime": {
     "end_time": "2022-05-24T23:57:34.388695Z",
     "start_time": "2022-05-24T23:57:16.933782Z"
    }
   },
   "outputs": [],
   "source": [
    "compression_opts = dict(method='zip', archive_name='Data/out.csv')\n",
    "\n",
    "transactions.to_csv('Data/out.zip', index=False, compression=compression_opts) "
   ]
  },
  {
   "cell_type": "markdown",
   "metadata": {},
   "source": [
    "# Meta Data for Content Based Filtering"
   ]
  },
  {
   "cell_type": "markdown",
   "metadata": {},
   "source": [
    "> We are creating a dataframe to use for Content Based Filtering System. This metadata will have all the articles and we will select some columns from the articles csv to convert them into binary columns for each unique value in that feature column. This dataframe will then be used to calculate the cosine similarity and recommend based on the similarity scores."
   ]
  },
  {
   "cell_type": "code",
   "execution_count": 27,
   "metadata": {
    "ExecuteTime": {
     "end_time": "2022-05-26T20:49:59.880008Z",
     "start_time": "2022-05-26T20:49:59.273632Z"
    }
   },
   "outputs": [
    {
     "data": {
      "text/html": [
       "<div>\n",
       "<style scoped>\n",
       "    .dataframe tbody tr th:only-of-type {\n",
       "        vertical-align: middle;\n",
       "    }\n",
       "\n",
       "    .dataframe tbody tr th {\n",
       "        vertical-align: top;\n",
       "    }\n",
       "\n",
       "    .dataframe thead th {\n",
       "        text-align: right;\n",
       "    }\n",
       "</style>\n",
       "<table border=\"1\" class=\"dataframe\">\n",
       "  <thead>\n",
       "    <tr style=\"text-align: right;\">\n",
       "      <th></th>\n",
       "      <th>article_id</th>\n",
       "      <th>product_code</th>\n",
       "      <th>prod_name</th>\n",
       "      <th>product_type_no</th>\n",
       "      <th>product_type_name</th>\n",
       "      <th>product_group_name</th>\n",
       "      <th>graphical_appearance_no</th>\n",
       "      <th>graphical_appearance_name</th>\n",
       "      <th>colour_group_code</th>\n",
       "      <th>colour_group_name</th>\n",
       "      <th>perceived_colour_value_id</th>\n",
       "      <th>perceived_colour_value_name</th>\n",
       "      <th>perceived_colour_master_id</th>\n",
       "      <th>perceived_colour_master_name</th>\n",
       "      <th>department_no</th>\n",
       "      <th>department_name</th>\n",
       "      <th>index_code</th>\n",
       "      <th>index_name</th>\n",
       "      <th>index_group_no</th>\n",
       "      <th>index_group_name</th>\n",
       "      <th>section_no</th>\n",
       "      <th>section_name</th>\n",
       "      <th>garment_group_no</th>\n",
       "      <th>garment_group_name</th>\n",
       "      <th>detail_desc</th>\n",
       "    </tr>\n",
       "  </thead>\n",
       "  <tbody>\n",
       "    <tr>\n",
       "      <th>0</th>\n",
       "      <td>108775015</td>\n",
       "      <td>108775</td>\n",
       "      <td>Strap top</td>\n",
       "      <td>253</td>\n",
       "      <td>Vest top</td>\n",
       "      <td>Garment Upper body</td>\n",
       "      <td>1010016</td>\n",
       "      <td>Solid</td>\n",
       "      <td>9</td>\n",
       "      <td>Black</td>\n",
       "      <td>4</td>\n",
       "      <td>Dark</td>\n",
       "      <td>5</td>\n",
       "      <td>Black</td>\n",
       "      <td>1676</td>\n",
       "      <td>Jersey Basic</td>\n",
       "      <td>A</td>\n",
       "      <td>Ladieswear</td>\n",
       "      <td>1</td>\n",
       "      <td>Ladieswear</td>\n",
       "      <td>16</td>\n",
       "      <td>Womens Everyday Basics</td>\n",
       "      <td>1002</td>\n",
       "      <td>Jersey Basic</td>\n",
       "      <td>Jersey top with narrow shoulder straps.</td>\n",
       "    </tr>\n",
       "    <tr>\n",
       "      <th>1</th>\n",
       "      <td>108775044</td>\n",
       "      <td>108775</td>\n",
       "      <td>Strap top</td>\n",
       "      <td>253</td>\n",
       "      <td>Vest top</td>\n",
       "      <td>Garment Upper body</td>\n",
       "      <td>1010016</td>\n",
       "      <td>Solid</td>\n",
       "      <td>10</td>\n",
       "      <td>White</td>\n",
       "      <td>3</td>\n",
       "      <td>Light</td>\n",
       "      <td>9</td>\n",
       "      <td>White</td>\n",
       "      <td>1676</td>\n",
       "      <td>Jersey Basic</td>\n",
       "      <td>A</td>\n",
       "      <td>Ladieswear</td>\n",
       "      <td>1</td>\n",
       "      <td>Ladieswear</td>\n",
       "      <td>16</td>\n",
       "      <td>Womens Everyday Basics</td>\n",
       "      <td>1002</td>\n",
       "      <td>Jersey Basic</td>\n",
       "      <td>Jersey top with narrow shoulder straps.</td>\n",
       "    </tr>\n",
       "    <tr>\n",
       "      <th>2</th>\n",
       "      <td>108775051</td>\n",
       "      <td>108775</td>\n",
       "      <td>Strap top (1)</td>\n",
       "      <td>253</td>\n",
       "      <td>Vest top</td>\n",
       "      <td>Garment Upper body</td>\n",
       "      <td>1010017</td>\n",
       "      <td>Stripe</td>\n",
       "      <td>11</td>\n",
       "      <td>Off White</td>\n",
       "      <td>1</td>\n",
       "      <td>Dusty Light</td>\n",
       "      <td>9</td>\n",
       "      <td>White</td>\n",
       "      <td>1676</td>\n",
       "      <td>Jersey Basic</td>\n",
       "      <td>A</td>\n",
       "      <td>Ladieswear</td>\n",
       "      <td>1</td>\n",
       "      <td>Ladieswear</td>\n",
       "      <td>16</td>\n",
       "      <td>Womens Everyday Basics</td>\n",
       "      <td>1002</td>\n",
       "      <td>Jersey Basic</td>\n",
       "      <td>Jersey top with narrow shoulder straps.</td>\n",
       "    </tr>\n",
       "  </tbody>\n",
       "</table>\n",
       "</div>"
      ],
      "text/plain": [
       "   article_id  product_code      prod_name  product_type_no product_type_name  \\\n",
       "0   108775015        108775      Strap top              253          Vest top   \n",
       "1   108775044        108775      Strap top              253          Vest top   \n",
       "2   108775051        108775  Strap top (1)              253          Vest top   \n",
       "\n",
       "   product_group_name  graphical_appearance_no graphical_appearance_name  \\\n",
       "0  Garment Upper body                  1010016                     Solid   \n",
       "1  Garment Upper body                  1010016                     Solid   \n",
       "2  Garment Upper body                  1010017                    Stripe   \n",
       "\n",
       "   colour_group_code colour_group_name  perceived_colour_value_id  \\\n",
       "0                  9             Black                          4   \n",
       "1                 10             White                          3   \n",
       "2                 11         Off White                          1   \n",
       "\n",
       "  perceived_colour_value_name  perceived_colour_master_id  \\\n",
       "0                        Dark                           5   \n",
       "1                       Light                           9   \n",
       "2                 Dusty Light                           9   \n",
       "\n",
       "  perceived_colour_master_name  department_no department_name index_code  \\\n",
       "0                        Black           1676    Jersey Basic          A   \n",
       "1                        White           1676    Jersey Basic          A   \n",
       "2                        White           1676    Jersey Basic          A   \n",
       "\n",
       "   index_name  index_group_no index_group_name  section_no  \\\n",
       "0  Ladieswear               1       Ladieswear          16   \n",
       "1  Ladieswear               1       Ladieswear          16   \n",
       "2  Ladieswear               1       Ladieswear          16   \n",
       "\n",
       "             section_name  garment_group_no garment_group_name  \\\n",
       "0  Womens Everyday Basics              1002       Jersey Basic   \n",
       "1  Womens Everyday Basics              1002       Jersey Basic   \n",
       "2  Womens Everyday Basics              1002       Jersey Basic   \n",
       "\n",
       "                               detail_desc  \n",
       "0  Jersey top with narrow shoulder straps.  \n",
       "1  Jersey top with narrow shoulder straps.  \n",
       "2  Jersey top with narrow shoulder straps.  "
      ]
     },
     "execution_count": 27,
     "metadata": {},
     "output_type": "execute_result"
    }
   ],
   "source": [
    "# Read in the meta data and set index to article_id\n",
    "\n",
    "articles = pd.read_csv('Data/h-and-m-personalized-fashion-recommendations/articles.csv')\n",
    "articles.head(3)"
   ]
  },
  {
   "cell_type": "markdown",
   "metadata": {},
   "source": [
    "We can create the meta data for the articles using the following columns - \n",
    "- `garment_group_name` \n",
    "    - ['Jersey Fancy', 'Accessories', 'Jersey Basic', 'Knitwear',\n",
    "       'Under-, Nightwear', 'Trousers', 'Blouses', 'Shoes', 'Dresses Ladies',\n",
    "       'Outdoor', 'Unknown', 'Trousers Denim', 'Swimwear', 'Socks and Tights',\n",
    "       'Shirts', 'Woven/Jersey/Knitted mix Baby', 'Shorts',\n",
    "       'Dresses/Skirts girls', 'Skirts', 'Special Offers', 'Dressed']\n",
    "- `product_group_name`\n",
    "    - ['Garment Upper body', 'Garment Lower body', 'Garment Full body',\n",
    "       'Accessories', 'Underwear', 'Shoes', 'Swimwear', 'Socks & Tights',\n",
    "       'Nightwear', 'Unknown', 'Underwear/nightwear', 'Cosmetic', 'Bags',\n",
    "       'Items', 'Furniture', 'Garment and Shoe care', 'Stationery',\n",
    "       'Interior textile', 'Fun']\n",
    "- `index_group_name`\n",
    "    - ['Ladieswear', 'Baby/Children', 'Divided', 'Menswear', 'Sport']\n",
    "\n",
    "We can filter the results using these columns - \n",
    "- `colour_group_name`\n",
    "    - ['Black', 'Dark Blue', 'White', 'Light Pink', 'Grey', 'Light Beige',\n",
    "       'Blue', 'Red', 'Light Blue', 'Greenish Khaki', 'Dark Grey', 'Off White',\n",
    "       'Beige', 'Dark Red', 'Dark Green', 'Light Grey', 'Pink', 'Yellow',\n",
    "       'Light Orange', 'Yellowish Brown', 'Gold', 'Dark Beige',\n",
    "       'Light Turquoise', 'Light Yellow', 'Dark Orange', 'Dark Pink', 'Green',\n",
    "       'Orange', 'Other Pink', 'Silver', 'Light Green', 'Dark Yellow',\n",
    "       'Light Purple', 'Dark Turquoise', 'Turquoise', 'Dark Purple',\n",
    "       'Light Red', 'Greyish Beige', 'Other Yellow', 'Purple', 'Other Orange',\n",
    "       'Other Green', 'Other Red', 'Other', 'Bronze/Copper', 'Other Blue',\n",
    "       'Other Purple', 'Transparent', 'Unknown', 'Other Turquoise']"
   ]
  },
  {
   "cell_type": "code",
   "execution_count": 28,
   "metadata": {
    "ExecuteTime": {
     "end_time": "2022-05-26T20:50:01.141026Z",
     "start_time": "2022-05-26T20:50:01.135266Z"
    }
   },
   "outputs": [
    {
     "data": {
      "text/plain": [
       "45"
      ]
     },
     "execution_count": 28,
     "metadata": {},
     "output_type": "execute_result"
    }
   ],
   "source": [
    "len(list(['Ladieswear', 'Baby/Children', 'Divided', 'Menswear', 'Sport', 'Garment Upper body', 'Garment Lower body', 'Garment Full body',\n",
    "       'Accessories', 'Underwear', 'Shoes', 'Swimwear', 'Socks & Tights',\n",
    "       'Nightwear', 'Unknown', 'Underwear/nightwear', 'Cosmetic', 'Bags',\n",
    "       'Items', 'Furniture', 'Garment and Shoe care', 'Stationery',\n",
    "       'Interior textile', 'Fun', 'Jersey Fancy', 'Accessories', 'Jersey Basic', 'Knitwear',\n",
    "       'Under-, Nightwear', 'Trousers', 'Blouses', 'Shoes', 'Dresses Ladies',\n",
    "       'Outdoor', 'Unknown', 'Trousers Denim', 'Swimwear', 'Socks and Tights',\n",
    "       'Shirts', 'Woven/Jersey/Knitted mix Baby', 'Shorts',\n",
    "       'Dresses/Skirts girls', 'Skirts', 'Special Offers', 'Dressed']))"
   ]
  },
  {
   "cell_type": "code",
   "execution_count": 29,
   "metadata": {
    "ExecuteTime": {
     "end_time": "2022-05-26T20:50:01.359312Z",
     "start_time": "2022-05-26T20:50:01.351885Z"
    }
   },
   "outputs": [],
   "source": [
    "# we drop the columns which we do not want to keep in our meta data\n",
    "\n",
    "articles.drop(columns=['product_code', 'prod_name', 'product_type_no', 'product_type_name',\n",
    "                       'graphical_appearance_no', 'graphical_appearance_name', 'colour_group_code',\n",
    "                       'colour_group_name','perceived_colour_value_id', 'perceived_colour_value_name',\n",
    "                       'perceived_colour_master_id', 'perceived_colour_master_name', 'department_no', \n",
    "                       'department_name', 'index_code', 'index_name', 'index_group_no', 'section_no', \n",
    "                       'section_name', 'garment_group_no', 'detail_desc'], inplace= True)"
   ]
  },
  {
   "cell_type": "code",
   "execution_count": 30,
   "metadata": {
    "ExecuteTime": {
     "end_time": "2022-05-26T20:50:01.556782Z",
     "start_time": "2022-05-26T20:50:01.549773Z"
    }
   },
   "outputs": [
    {
     "data": {
      "text/html": [
       "<div>\n",
       "<style scoped>\n",
       "    .dataframe tbody tr th:only-of-type {\n",
       "        vertical-align: middle;\n",
       "    }\n",
       "\n",
       "    .dataframe tbody tr th {\n",
       "        vertical-align: top;\n",
       "    }\n",
       "\n",
       "    .dataframe thead th {\n",
       "        text-align: right;\n",
       "    }\n",
       "</style>\n",
       "<table border=\"1\" class=\"dataframe\">\n",
       "  <thead>\n",
       "    <tr style=\"text-align: right;\">\n",
       "      <th></th>\n",
       "      <th>article_id</th>\n",
       "      <th>product_group_name</th>\n",
       "      <th>index_group_name</th>\n",
       "      <th>garment_group_name</th>\n",
       "    </tr>\n",
       "  </thead>\n",
       "  <tbody>\n",
       "    <tr>\n",
       "      <th>0</th>\n",
       "      <td>108775015</td>\n",
       "      <td>Garment Upper body</td>\n",
       "      <td>Ladieswear</td>\n",
       "      <td>Jersey Basic</td>\n",
       "    </tr>\n",
       "    <tr>\n",
       "      <th>1</th>\n",
       "      <td>108775044</td>\n",
       "      <td>Garment Upper body</td>\n",
       "      <td>Ladieswear</td>\n",
       "      <td>Jersey Basic</td>\n",
       "    </tr>\n",
       "    <tr>\n",
       "      <th>2</th>\n",
       "      <td>108775051</td>\n",
       "      <td>Garment Upper body</td>\n",
       "      <td>Ladieswear</td>\n",
       "      <td>Jersey Basic</td>\n",
       "    </tr>\n",
       "  </tbody>\n",
       "</table>\n",
       "</div>"
      ],
      "text/plain": [
       "   article_id  product_group_name index_group_name garment_group_name\n",
       "0   108775015  Garment Upper body       Ladieswear       Jersey Basic\n",
       "1   108775044  Garment Upper body       Ladieswear       Jersey Basic\n",
       "2   108775051  Garment Upper body       Ladieswear       Jersey Basic"
      ]
     },
     "execution_count": 30,
     "metadata": {},
     "output_type": "execute_result"
    }
   ],
   "source": [
    "articles.head(3)"
   ]
  },
  {
   "cell_type": "code",
   "execution_count": 31,
   "metadata": {
    "ExecuteTime": {
     "end_time": "2022-05-26T20:50:02.226774Z",
     "start_time": "2022-05-26T20:50:02.207326Z"
    }
   },
   "outputs": [
    {
     "data": {
      "text/plain": [
       "article_id            0\n",
       "product_group_name    0\n",
       "index_group_name      0\n",
       "garment_group_name    0\n",
       "dtype: int64"
      ]
     },
     "execution_count": 31,
     "metadata": {},
     "output_type": "execute_result"
    }
   ],
   "source": [
    "# check for nulls \n",
    "articles.isnull().sum()"
   ]
  },
  {
   "cell_type": "code",
   "execution_count": 32,
   "metadata": {
    "ExecuteTime": {
     "end_time": "2022-05-26T20:50:03.216615Z",
     "start_time": "2022-05-26T20:50:03.134813Z"
    }
   },
   "outputs": [
    {
     "name": "stdout",
     "output_type": "stream",
     "text": [
      "<class 'pandas.core.frame.DataFrame'>\n",
      "RangeIndex: 105542 entries, 0 to 105541\n",
      "Data columns (total 46 columns):\n",
      " #   Column                                            Non-Null Count   Dtype\n",
      "---  ------                                            --------------   -----\n",
      " 0   article_id                                        105542 non-null  int64\n",
      " 1   product_group_name_Accessories                    105542 non-null  uint8\n",
      " 2   product_group_name_Bags                           105542 non-null  uint8\n",
      " 3   product_group_name_Cosmetic                       105542 non-null  uint8\n",
      " 4   product_group_name_Fun                            105542 non-null  uint8\n",
      " 5   product_group_name_Furniture                      105542 non-null  uint8\n",
      " 6   product_group_name_Garment Full body              105542 non-null  uint8\n",
      " 7   product_group_name_Garment Lower body             105542 non-null  uint8\n",
      " 8   product_group_name_Garment Upper body             105542 non-null  uint8\n",
      " 9   product_group_name_Garment and Shoe care          105542 non-null  uint8\n",
      " 10  product_group_name_Interior textile               105542 non-null  uint8\n",
      " 11  product_group_name_Items                          105542 non-null  uint8\n",
      " 12  product_group_name_Nightwear                      105542 non-null  uint8\n",
      " 13  product_group_name_Shoes                          105542 non-null  uint8\n",
      " 14  product_group_name_Socks & Tights                 105542 non-null  uint8\n",
      " 15  product_group_name_Stationery                     105542 non-null  uint8\n",
      " 16  product_group_name_Swimwear                       105542 non-null  uint8\n",
      " 17  product_group_name_Underwear                      105542 non-null  uint8\n",
      " 18  product_group_name_Underwear/nightwear            105542 non-null  uint8\n",
      " 19  product_group_name_Unknown                        105542 non-null  uint8\n",
      " 20  index_group_name_Baby/Children                    105542 non-null  uint8\n",
      " 21  index_group_name_Divided                          105542 non-null  uint8\n",
      " 22  index_group_name_Ladieswear                       105542 non-null  uint8\n",
      " 23  index_group_name_Menswear                         105542 non-null  uint8\n",
      " 24  index_group_name_Sport                            105542 non-null  uint8\n",
      " 25  garment_group_name_Accessories                    105542 non-null  uint8\n",
      " 26  garment_group_name_Blouses                        105542 non-null  uint8\n",
      " 27  garment_group_name_Dressed                        105542 non-null  uint8\n",
      " 28  garment_group_name_Dresses Ladies                 105542 non-null  uint8\n",
      " 29  garment_group_name_Dresses/Skirts girls           105542 non-null  uint8\n",
      " 30  garment_group_name_Jersey Basic                   105542 non-null  uint8\n",
      " 31  garment_group_name_Jersey Fancy                   105542 non-null  uint8\n",
      " 32  garment_group_name_Knitwear                       105542 non-null  uint8\n",
      " 33  garment_group_name_Outdoor                        105542 non-null  uint8\n",
      " 34  garment_group_name_Shirts                         105542 non-null  uint8\n",
      " 35  garment_group_name_Shoes                          105542 non-null  uint8\n",
      " 36  garment_group_name_Shorts                         105542 non-null  uint8\n",
      " 37  garment_group_name_Skirts                         105542 non-null  uint8\n",
      " 38  garment_group_name_Socks and Tights               105542 non-null  uint8\n",
      " 39  garment_group_name_Special Offers                 105542 non-null  uint8\n",
      " 40  garment_group_name_Swimwear                       105542 non-null  uint8\n",
      " 41  garment_group_name_Trousers                       105542 non-null  uint8\n",
      " 42  garment_group_name_Trousers Denim                 105542 non-null  uint8\n",
      " 43  garment_group_name_Under-, Nightwear              105542 non-null  uint8\n",
      " 44  garment_group_name_Unknown                        105542 non-null  uint8\n",
      " 45  garment_group_name_Woven/Jersey/Knitted mix Baby  105542 non-null  uint8\n",
      "dtypes: int64(1), uint8(45)\n",
      "memory usage: 5.3 MB\n"
     ]
    }
   ],
   "source": [
    "# Dummy out the columns to produce binary columns for each 'feature'\n",
    "articles = pd.get_dummies(articles, columns=['product_group_name', 'index_group_name', 'garment_group_name'])\n",
    "articles.info()"
   ]
  },
  {
   "cell_type": "code",
   "execution_count": 33,
   "metadata": {
    "ExecuteTime": {
     "end_time": "2022-05-26T20:50:04.233757Z",
     "start_time": "2022-05-26T20:50:04.208531Z"
    }
   },
   "outputs": [
    {
     "data": {
      "text/html": [
       "<div>\n",
       "<style scoped>\n",
       "    .dataframe tbody tr th:only-of-type {\n",
       "        vertical-align: middle;\n",
       "    }\n",
       "\n",
       "    .dataframe tbody tr th {\n",
       "        vertical-align: top;\n",
       "    }\n",
       "\n",
       "    .dataframe thead th {\n",
       "        text-align: right;\n",
       "    }\n",
       "</style>\n",
       "<table border=\"1\" class=\"dataframe\">\n",
       "  <thead>\n",
       "    <tr style=\"text-align: right;\">\n",
       "      <th></th>\n",
       "      <th>article_id</th>\n",
       "      <th>product_group_name_Accessories</th>\n",
       "      <th>product_group_name_Bags</th>\n",
       "      <th>product_group_name_Cosmetic</th>\n",
       "      <th>product_group_name_Fun</th>\n",
       "      <th>product_group_name_Furniture</th>\n",
       "      <th>product_group_name_Garment Full body</th>\n",
       "      <th>product_group_name_Garment Lower body</th>\n",
       "      <th>product_group_name_Garment Upper body</th>\n",
       "      <th>product_group_name_Garment and Shoe care</th>\n",
       "      <th>product_group_name_Interior textile</th>\n",
       "      <th>product_group_name_Items</th>\n",
       "      <th>product_group_name_Nightwear</th>\n",
       "      <th>product_group_name_Shoes</th>\n",
       "      <th>product_group_name_Socks &amp; Tights</th>\n",
       "      <th>product_group_name_Stationery</th>\n",
       "      <th>product_group_name_Swimwear</th>\n",
       "      <th>product_group_name_Underwear</th>\n",
       "      <th>product_group_name_Underwear/nightwear</th>\n",
       "      <th>product_group_name_Unknown</th>\n",
       "      <th>index_group_name_Baby/Children</th>\n",
       "      <th>index_group_name_Divided</th>\n",
       "      <th>index_group_name_Ladieswear</th>\n",
       "      <th>index_group_name_Menswear</th>\n",
       "      <th>index_group_name_Sport</th>\n",
       "      <th>garment_group_name_Accessories</th>\n",
       "      <th>garment_group_name_Blouses</th>\n",
       "      <th>garment_group_name_Dressed</th>\n",
       "      <th>garment_group_name_Dresses Ladies</th>\n",
       "      <th>garment_group_name_Dresses/Skirts girls</th>\n",
       "      <th>garment_group_name_Jersey Basic</th>\n",
       "      <th>garment_group_name_Jersey Fancy</th>\n",
       "      <th>garment_group_name_Knitwear</th>\n",
       "      <th>garment_group_name_Outdoor</th>\n",
       "      <th>garment_group_name_Shirts</th>\n",
       "      <th>garment_group_name_Shoes</th>\n",
       "      <th>garment_group_name_Shorts</th>\n",
       "      <th>garment_group_name_Skirts</th>\n",
       "      <th>garment_group_name_Socks and Tights</th>\n",
       "      <th>garment_group_name_Special Offers</th>\n",
       "      <th>garment_group_name_Swimwear</th>\n",
       "      <th>garment_group_name_Trousers</th>\n",
       "      <th>garment_group_name_Trousers Denim</th>\n",
       "      <th>garment_group_name_Under-, Nightwear</th>\n",
       "      <th>garment_group_name_Unknown</th>\n",
       "      <th>garment_group_name_Woven/Jersey/Knitted mix Baby</th>\n",
       "    </tr>\n",
       "  </thead>\n",
       "  <tbody>\n",
       "    <tr>\n",
       "      <th>0</th>\n",
       "      <td>108775015</td>\n",
       "      <td>0</td>\n",
       "      <td>0</td>\n",
       "      <td>0</td>\n",
       "      <td>0</td>\n",
       "      <td>0</td>\n",
       "      <td>0</td>\n",
       "      <td>0</td>\n",
       "      <td>1</td>\n",
       "      <td>0</td>\n",
       "      <td>0</td>\n",
       "      <td>0</td>\n",
       "      <td>0</td>\n",
       "      <td>0</td>\n",
       "      <td>0</td>\n",
       "      <td>0</td>\n",
       "      <td>0</td>\n",
       "      <td>0</td>\n",
       "      <td>0</td>\n",
       "      <td>0</td>\n",
       "      <td>0</td>\n",
       "      <td>0</td>\n",
       "      <td>1</td>\n",
       "      <td>0</td>\n",
       "      <td>0</td>\n",
       "      <td>0</td>\n",
       "      <td>0</td>\n",
       "      <td>0</td>\n",
       "      <td>0</td>\n",
       "      <td>0</td>\n",
       "      <td>1</td>\n",
       "      <td>0</td>\n",
       "      <td>0</td>\n",
       "      <td>0</td>\n",
       "      <td>0</td>\n",
       "      <td>0</td>\n",
       "      <td>0</td>\n",
       "      <td>0</td>\n",
       "      <td>0</td>\n",
       "      <td>0</td>\n",
       "      <td>0</td>\n",
       "      <td>0</td>\n",
       "      <td>0</td>\n",
       "      <td>0</td>\n",
       "      <td>0</td>\n",
       "      <td>0</td>\n",
       "    </tr>\n",
       "    <tr>\n",
       "      <th>1</th>\n",
       "      <td>108775044</td>\n",
       "      <td>0</td>\n",
       "      <td>0</td>\n",
       "      <td>0</td>\n",
       "      <td>0</td>\n",
       "      <td>0</td>\n",
       "      <td>0</td>\n",
       "      <td>0</td>\n",
       "      <td>1</td>\n",
       "      <td>0</td>\n",
       "      <td>0</td>\n",
       "      <td>0</td>\n",
       "      <td>0</td>\n",
       "      <td>0</td>\n",
       "      <td>0</td>\n",
       "      <td>0</td>\n",
       "      <td>0</td>\n",
       "      <td>0</td>\n",
       "      <td>0</td>\n",
       "      <td>0</td>\n",
       "      <td>0</td>\n",
       "      <td>0</td>\n",
       "      <td>1</td>\n",
       "      <td>0</td>\n",
       "      <td>0</td>\n",
       "      <td>0</td>\n",
       "      <td>0</td>\n",
       "      <td>0</td>\n",
       "      <td>0</td>\n",
       "      <td>0</td>\n",
       "      <td>1</td>\n",
       "      <td>0</td>\n",
       "      <td>0</td>\n",
       "      <td>0</td>\n",
       "      <td>0</td>\n",
       "      <td>0</td>\n",
       "      <td>0</td>\n",
       "      <td>0</td>\n",
       "      <td>0</td>\n",
       "      <td>0</td>\n",
       "      <td>0</td>\n",
       "      <td>0</td>\n",
       "      <td>0</td>\n",
       "      <td>0</td>\n",
       "      <td>0</td>\n",
       "      <td>0</td>\n",
       "    </tr>\n",
       "    <tr>\n",
       "      <th>2</th>\n",
       "      <td>108775051</td>\n",
       "      <td>0</td>\n",
       "      <td>0</td>\n",
       "      <td>0</td>\n",
       "      <td>0</td>\n",
       "      <td>0</td>\n",
       "      <td>0</td>\n",
       "      <td>0</td>\n",
       "      <td>1</td>\n",
       "      <td>0</td>\n",
       "      <td>0</td>\n",
       "      <td>0</td>\n",
       "      <td>0</td>\n",
       "      <td>0</td>\n",
       "      <td>0</td>\n",
       "      <td>0</td>\n",
       "      <td>0</td>\n",
       "      <td>0</td>\n",
       "      <td>0</td>\n",
       "      <td>0</td>\n",
       "      <td>0</td>\n",
       "      <td>0</td>\n",
       "      <td>1</td>\n",
       "      <td>0</td>\n",
       "      <td>0</td>\n",
       "      <td>0</td>\n",
       "      <td>0</td>\n",
       "      <td>0</td>\n",
       "      <td>0</td>\n",
       "      <td>0</td>\n",
       "      <td>1</td>\n",
       "      <td>0</td>\n",
       "      <td>0</td>\n",
       "      <td>0</td>\n",
       "      <td>0</td>\n",
       "      <td>0</td>\n",
       "      <td>0</td>\n",
       "      <td>0</td>\n",
       "      <td>0</td>\n",
       "      <td>0</td>\n",
       "      <td>0</td>\n",
       "      <td>0</td>\n",
       "      <td>0</td>\n",
       "      <td>0</td>\n",
       "      <td>0</td>\n",
       "      <td>0</td>\n",
       "    </tr>\n",
       "  </tbody>\n",
       "</table>\n",
       "</div>"
      ],
      "text/plain": [
       "   article_id  product_group_name_Accessories  product_group_name_Bags  \\\n",
       "0   108775015                               0                        0   \n",
       "1   108775044                               0                        0   \n",
       "2   108775051                               0                        0   \n",
       "\n",
       "   product_group_name_Cosmetic  product_group_name_Fun  \\\n",
       "0                            0                       0   \n",
       "1                            0                       0   \n",
       "2                            0                       0   \n",
       "\n",
       "   product_group_name_Furniture  product_group_name_Garment Full body  \\\n",
       "0                             0                                     0   \n",
       "1                             0                                     0   \n",
       "2                             0                                     0   \n",
       "\n",
       "   product_group_name_Garment Lower body  \\\n",
       "0                                      0   \n",
       "1                                      0   \n",
       "2                                      0   \n",
       "\n",
       "   product_group_name_Garment Upper body  \\\n",
       "0                                      1   \n",
       "1                                      1   \n",
       "2                                      1   \n",
       "\n",
       "   product_group_name_Garment and Shoe care  \\\n",
       "0                                         0   \n",
       "1                                         0   \n",
       "2                                         0   \n",
       "\n",
       "   product_group_name_Interior textile  product_group_name_Items  \\\n",
       "0                                    0                         0   \n",
       "1                                    0                         0   \n",
       "2                                    0                         0   \n",
       "\n",
       "   product_group_name_Nightwear  product_group_name_Shoes  \\\n",
       "0                             0                         0   \n",
       "1                             0                         0   \n",
       "2                             0                         0   \n",
       "\n",
       "   product_group_name_Socks & Tights  product_group_name_Stationery  \\\n",
       "0                                  0                              0   \n",
       "1                                  0                              0   \n",
       "2                                  0                              0   \n",
       "\n",
       "   product_group_name_Swimwear  product_group_name_Underwear  \\\n",
       "0                            0                             0   \n",
       "1                            0                             0   \n",
       "2                            0                             0   \n",
       "\n",
       "   product_group_name_Underwear/nightwear  product_group_name_Unknown  \\\n",
       "0                                       0                           0   \n",
       "1                                       0                           0   \n",
       "2                                       0                           0   \n",
       "\n",
       "   index_group_name_Baby/Children  index_group_name_Divided  \\\n",
       "0                               0                         0   \n",
       "1                               0                         0   \n",
       "2                               0                         0   \n",
       "\n",
       "   index_group_name_Ladieswear  index_group_name_Menswear  \\\n",
       "0                            1                          0   \n",
       "1                            1                          0   \n",
       "2                            1                          0   \n",
       "\n",
       "   index_group_name_Sport  garment_group_name_Accessories  \\\n",
       "0                       0                               0   \n",
       "1                       0                               0   \n",
       "2                       0                               0   \n",
       "\n",
       "   garment_group_name_Blouses  garment_group_name_Dressed  \\\n",
       "0                           0                           0   \n",
       "1                           0                           0   \n",
       "2                           0                           0   \n",
       "\n",
       "   garment_group_name_Dresses Ladies  garment_group_name_Dresses/Skirts girls  \\\n",
       "0                                  0                                        0   \n",
       "1                                  0                                        0   \n",
       "2                                  0                                        0   \n",
       "\n",
       "   garment_group_name_Jersey Basic  garment_group_name_Jersey Fancy  \\\n",
       "0                                1                                0   \n",
       "1                                1                                0   \n",
       "2                                1                                0   \n",
       "\n",
       "   garment_group_name_Knitwear  garment_group_name_Outdoor  \\\n",
       "0                            0                           0   \n",
       "1                            0                           0   \n",
       "2                            0                           0   \n",
       "\n",
       "   garment_group_name_Shirts  garment_group_name_Shoes  \\\n",
       "0                          0                         0   \n",
       "1                          0                         0   \n",
       "2                          0                         0   \n",
       "\n",
       "   garment_group_name_Shorts  garment_group_name_Skirts  \\\n",
       "0                          0                          0   \n",
       "1                          0                          0   \n",
       "2                          0                          0   \n",
       "\n",
       "   garment_group_name_Socks and Tights  garment_group_name_Special Offers  \\\n",
       "0                                    0                                  0   \n",
       "1                                    0                                  0   \n",
       "2                                    0                                  0   \n",
       "\n",
       "   garment_group_name_Swimwear  garment_group_name_Trousers  \\\n",
       "0                            0                            0   \n",
       "1                            0                            0   \n",
       "2                            0                            0   \n",
       "\n",
       "   garment_group_name_Trousers Denim  garment_group_name_Under-, Nightwear  \\\n",
       "0                                  0                                     0   \n",
       "1                                  0                                     0   \n",
       "2                                  0                                     0   \n",
       "\n",
       "   garment_group_name_Unknown  \\\n",
       "0                           0   \n",
       "1                           0   \n",
       "2                           0   \n",
       "\n",
       "   garment_group_name_Woven/Jersey/Knitted mix Baby  \n",
       "0                                                 0  \n",
       "1                                                 0  \n",
       "2                                                 0  "
      ]
     },
     "execution_count": 33,
     "metadata": {},
     "output_type": "execute_result"
    }
   ],
   "source": [
    "articles.head(3)"
   ]
  },
  {
   "cell_type": "markdown",
   "metadata": {},
   "source": [
    "The columns do not need to be scaled as all the columns are binary. The final dataset is ready which can be used for cosine similarity computation and recommendations based off that. I have saved the dataframe in a csv format to be used in the `H&M-ContentBasedFilteringModeling` notebook.  "
   ]
  },
  {
   "cell_type": "code",
   "execution_count": 34,
   "metadata": {
    "ExecuteTime": {
     "end_time": "2022-05-26T20:50:08.217890Z",
     "start_time": "2022-05-26T20:50:07.317934Z"
    }
   },
   "outputs": [],
   "source": [
    "compression_articles = dict(method='zip', archive_name='Data/out_content.csv')\n",
    "\n",
    "articles.to_csv('Data/out_content.zip', index=False, compression=compression_articles) "
   ]
  },
  {
   "cell_type": "code",
   "execution_count": null,
   "metadata": {},
   "outputs": [],
   "source": []
  }
 ],
 "metadata": {
  "kernelspec": {
   "display_name": "Python (learn-env)",
   "language": "python",
   "name": "learn-env"
  },
  "language_info": {
   "codemirror_mode": {
    "name": "ipython",
    "version": 3
   },
   "file_extension": ".py",
   "mimetype": "text/x-python",
   "name": "python",
   "nbconvert_exporter": "python",
   "pygments_lexer": "ipython3",
   "version": "3.8.5"
  },
  "varInspector": {
   "cols": {
    "lenName": 16,
    "lenType": 16,
    "lenVar": 40
   },
   "kernels_config": {
    "python": {
     "delete_cmd_postfix": "",
     "delete_cmd_prefix": "del ",
     "library": "var_list.py",
     "varRefreshCmd": "print(var_dic_list())"
    },
    "r": {
     "delete_cmd_postfix": ") ",
     "delete_cmd_prefix": "rm(",
     "library": "var_list.r",
     "varRefreshCmd": "cat(var_dic_list()) "
    }
   },
   "types_to_exclude": [
    "module",
    "function",
    "builtin_function_or_method",
    "instance",
    "_Feature"
   ],
   "window_display": false
  }
 },
 "nbformat": 4,
 "nbformat_minor": 4
}
